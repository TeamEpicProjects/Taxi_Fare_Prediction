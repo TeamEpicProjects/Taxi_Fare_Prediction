{
  "nbformat": 4,
  "nbformat_minor": 5,
  "metadata": {
    "kernelspec": {
      "display_name": "Python 3",
      "language": "python",
      "name": "python3"
    },
    "language_info": {
      "codemirror_mode": {
        "name": "ipython",
        "version": 3
      },
      "file_extension": ".py",
      "mimetype": "text/x-python",
      "name": "python",
      "nbconvert_exporter": "python",
      "pygments_lexer": "ipython3",
      "version": "3.8.8"
    },
    "colab": {
      "name": "Untitled2.ipynb",
      "provenance": [],
      "collapsed_sections": []
    }
  },
  "cells": [
    {
      "cell_type": "code",
      "metadata": {
        "id": "670a41ba"
      },
      "source": [
        "import pandas as pd\n",
        "import numpy as np\n",
        "import seaborn as sns\n",
        "import matplotlib.pyplot as plt"
      ],
      "id": "670a41ba",
      "execution_count": 6,
      "outputs": []
    },
    {
      "cell_type": "code",
      "metadata": {
        "colab": {
          "base_uri": "https://localhost:8080/"
        },
        "id": "KMq-2mizFsml",
        "outputId": "f7062167-fd28-455a-d552-0317600f4bf5"
      },
      "source": [
        "from google.colab import drive\n",
        "drive.mount('/content/drive')"
      ],
      "id": "KMq-2mizFsml",
      "execution_count": 4,
      "outputs": [
        {
          "output_type": "stream",
          "name": "stdout",
          "text": [
            "Mounted at /content/drive\n"
          ]
        }
      ]
    },
    {
      "cell_type": "markdown",
      "metadata": {
        "id": "zEDghg4YCXVW"
      },
      "source": [
        "# New Section"
      ],
      "id": "zEDghg4YCXVW"
    },
    {
      "cell_type": "markdown",
      "metadata": {
        "id": "ppFp90VfCX7K"
      },
      "source": [
        "# New Section"
      ],
      "id": "ppFp90VfCX7K"
    },
    {
      "cell_type": "code",
      "metadata": {
        "id": "52d84c72"
      },
      "source": [
        "import warnings\n",
        "warnings.filterwarnings(\"ignore\")"
      ],
      "id": "52d84c72",
      "execution_count": null,
      "outputs": []
    },
    {
      "cell_type": "code",
      "metadata": {
        "id": "c614b0ed"
      },
      "source": [
        "df_green_2017 =pd.read_csv('/content/drive/MyDrive/NYC/2017/combined/2017_green_combined.csv')\n",
        "\n"
      ],
      "id": "c614b0ed",
      "execution_count": 7,
      "outputs": []
    },
    {
      "cell_type": "code",
      "metadata": {
        "colab": {
          "base_uri": "https://localhost:8080/",
          "height": 226
        },
        "id": "a5MCyY8W1Frf",
        "outputId": "dbd5fa3e-fa4c-4959-b3ed-45c867a641c0"
      },
      "source": [
        "df_green_2017.head(5)\n"
      ],
      "id": "a5MCyY8W1Frf",
      "execution_count": 8,
      "outputs": [
        {
          "output_type": "execute_result",
          "data": {
            "text/html": [
              "<div>\n",
              "<style scoped>\n",
              "    .dataframe tbody tr th:only-of-type {\n",
              "        vertical-align: middle;\n",
              "    }\n",
              "\n",
              "    .dataframe tbody tr th {\n",
              "        vertical-align: top;\n",
              "    }\n",
              "\n",
              "    .dataframe thead th {\n",
              "        text-align: right;\n",
              "    }\n",
              "</style>\n",
              "<table border=\"1\" class=\"dataframe\">\n",
              "  <thead>\n",
              "    <tr style=\"text-align: right;\">\n",
              "      <th></th>\n",
              "      <th>VendorID</th>\n",
              "      <th>lpep_pickup_datetime</th>\n",
              "      <th>lpep_dropoff_datetime</th>\n",
              "      <th>store_and_fwd_flag</th>\n",
              "      <th>RatecodeID</th>\n",
              "      <th>PULocationID</th>\n",
              "      <th>DOLocationID</th>\n",
              "      <th>passenger_count</th>\n",
              "      <th>trip_distance</th>\n",
              "      <th>fare_amount</th>\n",
              "      <th>extra</th>\n",
              "      <th>mta_tax</th>\n",
              "      <th>tip_amount</th>\n",
              "      <th>tolls_amount</th>\n",
              "      <th>ehail_fee</th>\n",
              "      <th>improvement_surcharge</th>\n",
              "      <th>total_amount</th>\n",
              "      <th>payment_type</th>\n",
              "      <th>trip_type</th>\n",
              "    </tr>\n",
              "  </thead>\n",
              "  <tbody>\n",
              "    <tr>\n",
              "      <th>0</th>\n",
              "      <td>2</td>\n",
              "      <td>2017-01-01 00:01:15</td>\n",
              "      <td>2017-01-01 00:11:05</td>\n",
              "      <td>N</td>\n",
              "      <td>1</td>\n",
              "      <td>42</td>\n",
              "      <td>166</td>\n",
              "      <td>1</td>\n",
              "      <td>1.71</td>\n",
              "      <td>9.0</td>\n",
              "      <td>0.0</td>\n",
              "      <td>0.5</td>\n",
              "      <td>0.00</td>\n",
              "      <td>0.0</td>\n",
              "      <td>NaN</td>\n",
              "      <td>0.3</td>\n",
              "      <td>9.80</td>\n",
              "      <td>2</td>\n",
              "      <td>1.0</td>\n",
              "    </tr>\n",
              "    <tr>\n",
              "      <th>1</th>\n",
              "      <td>2</td>\n",
              "      <td>2017-01-01 00:03:34</td>\n",
              "      <td>2017-01-01 00:09:00</td>\n",
              "      <td>N</td>\n",
              "      <td>1</td>\n",
              "      <td>75</td>\n",
              "      <td>74</td>\n",
              "      <td>1</td>\n",
              "      <td>1.44</td>\n",
              "      <td>6.5</td>\n",
              "      <td>0.5</td>\n",
              "      <td>0.5</td>\n",
              "      <td>0.00</td>\n",
              "      <td>0.0</td>\n",
              "      <td>NaN</td>\n",
              "      <td>0.3</td>\n",
              "      <td>7.80</td>\n",
              "      <td>2</td>\n",
              "      <td>1.0</td>\n",
              "    </tr>\n",
              "    <tr>\n",
              "      <th>2</th>\n",
              "      <td>2</td>\n",
              "      <td>2017-01-01 00:04:02</td>\n",
              "      <td>2017-01-01 00:12:55</td>\n",
              "      <td>N</td>\n",
              "      <td>1</td>\n",
              "      <td>82</td>\n",
              "      <td>70</td>\n",
              "      <td>5</td>\n",
              "      <td>3.45</td>\n",
              "      <td>12.0</td>\n",
              "      <td>0.5</td>\n",
              "      <td>0.5</td>\n",
              "      <td>2.66</td>\n",
              "      <td>0.0</td>\n",
              "      <td>NaN</td>\n",
              "      <td>0.3</td>\n",
              "      <td>15.96</td>\n",
              "      <td>1</td>\n",
              "      <td>1.0</td>\n",
              "    </tr>\n",
              "    <tr>\n",
              "      <th>3</th>\n",
              "      <td>2</td>\n",
              "      <td>2017-01-01 00:01:40</td>\n",
              "      <td>2017-01-01 00:14:23</td>\n",
              "      <td>N</td>\n",
              "      <td>1</td>\n",
              "      <td>255</td>\n",
              "      <td>232</td>\n",
              "      <td>1</td>\n",
              "      <td>2.11</td>\n",
              "      <td>10.5</td>\n",
              "      <td>0.5</td>\n",
              "      <td>0.5</td>\n",
              "      <td>0.00</td>\n",
              "      <td>0.0</td>\n",
              "      <td>NaN</td>\n",
              "      <td>0.3</td>\n",
              "      <td>11.80</td>\n",
              "      <td>2</td>\n",
              "      <td>1.0</td>\n",
              "    </tr>\n",
              "    <tr>\n",
              "      <th>4</th>\n",
              "      <td>2</td>\n",
              "      <td>2017-01-01 00:00:51</td>\n",
              "      <td>2017-01-01 00:18:55</td>\n",
              "      <td>N</td>\n",
              "      <td>1</td>\n",
              "      <td>166</td>\n",
              "      <td>239</td>\n",
              "      <td>1</td>\n",
              "      <td>2.76</td>\n",
              "      <td>11.5</td>\n",
              "      <td>0.5</td>\n",
              "      <td>0.5</td>\n",
              "      <td>0.00</td>\n",
              "      <td>0.0</td>\n",
              "      <td>NaN</td>\n",
              "      <td>0.3</td>\n",
              "      <td>12.80</td>\n",
              "      <td>2</td>\n",
              "      <td>1.0</td>\n",
              "    </tr>\n",
              "  </tbody>\n",
              "</table>\n",
              "</div>"
            ],
            "text/plain": [
              "   VendorID lpep_pickup_datetime  ... payment_type trip_type\n",
              "0         2  2017-01-01 00:01:15  ...            2       1.0\n",
              "1         2  2017-01-01 00:03:34  ...            2       1.0\n",
              "2         2  2017-01-01 00:04:02  ...            1       1.0\n",
              "3         2  2017-01-01 00:01:40  ...            2       1.0\n",
              "4         2  2017-01-01 00:00:51  ...            2       1.0\n",
              "\n",
              "[5 rows x 19 columns]"
            ]
          },
          "metadata": {},
          "execution_count": 8
        }
      ]
    },
    {
      "cell_type": "code",
      "metadata": {
        "colab": {
          "base_uri": "https://localhost:8080/"
        },
        "id": "zvTuCxlz1Fon",
        "outputId": "403a7e6e-43b0-430d-ec6f-042072e4c55d"
      },
      "source": [
        "df_green_2017.info()\n"
      ],
      "id": "zvTuCxlz1Fon",
      "execution_count": 9,
      "outputs": [
        {
          "output_type": "stream",
          "name": "stdout",
          "text": [
            "<class 'pandas.core.frame.DataFrame'>\n",
            "RangeIndex: 11740667 entries, 0 to 11740666\n",
            "Data columns (total 19 columns):\n",
            " #   Column                 Dtype  \n",
            "---  ------                 -----  \n",
            " 0   VendorID               int64  \n",
            " 1   lpep_pickup_datetime   object \n",
            " 2   lpep_dropoff_datetime  object \n",
            " 3   store_and_fwd_flag     object \n",
            " 4   RatecodeID             int64  \n",
            " 5   PULocationID           int64  \n",
            " 6   DOLocationID           int64  \n",
            " 7   passenger_count        int64  \n",
            " 8   trip_distance          float64\n",
            " 9   fare_amount            float64\n",
            " 10  extra                  float64\n",
            " 11  mta_tax                float64\n",
            " 12  tip_amount             float64\n",
            " 13  tolls_amount           float64\n",
            " 14  ehail_fee              float64\n",
            " 15  improvement_surcharge  float64\n",
            " 16  total_amount           float64\n",
            " 17  payment_type           int64  \n",
            " 18  trip_type              float64\n",
            "dtypes: float64(10), int64(6), object(3)\n",
            "memory usage: 1.7+ GB\n"
          ]
        }
      ]
    },
    {
      "cell_type": "code",
      "metadata": {
        "id": "-kf0wb4NFAda",
        "colab": {
          "base_uri": "https://localhost:8080/"
        },
        "outputId": "f629a3f6-88fa-4c6a-f934-884790562c48"
      },
      "source": [
        "print(\"Shape of dataset = \",df_green_2017.shape)\n"
      ],
      "id": "-kf0wb4NFAda",
      "execution_count": 10,
      "outputs": [
        {
          "output_type": "stream",
          "name": "stdout",
          "text": [
            "Shape of dataset =  (11740667, 19)\n"
          ]
        }
      ]
    },
    {
      "cell_type": "code",
      "metadata": {
        "colab": {
          "base_uri": "https://localhost:8080/"
        },
        "id": "S0pz6pHG3vjG",
        "outputId": "17774386-5201-4856-ef35-4396dd6b7c73"
      },
      "source": [
        "df_green_2017.isnull().sum()\n",
        "\n"
      ],
      "id": "S0pz6pHG3vjG",
      "execution_count": 11,
      "outputs": [
        {
          "output_type": "execute_result",
          "data": {
            "text/plain": [
              "VendorID                        0\n",
              "lpep_pickup_datetime            0\n",
              "lpep_dropoff_datetime           0\n",
              "store_and_fwd_flag              0\n",
              "RatecodeID                      0\n",
              "PULocationID                    0\n",
              "DOLocationID                    0\n",
              "passenger_count                 0\n",
              "trip_distance                   0\n",
              "fare_amount                     0\n",
              "extra                           0\n",
              "mta_tax                         0\n",
              "tip_amount                      0\n",
              "tolls_amount                    0\n",
              "ehail_fee                11740667\n",
              "improvement_surcharge           0\n",
              "total_amount                    0\n",
              "payment_type                    0\n",
              "trip_type                      27\n",
              "dtype: int64"
            ]
          },
          "metadata": {},
          "execution_count": 11
        }
      ]
    },
    {
      "cell_type": "code",
      "metadata": {
        "id": "pBm9wSWz5Olv",
        "colab": {
          "base_uri": "https://localhost:8080/",
          "height": 70
        },
        "outputId": "a113a744-16fb-4626-b190-958b691962b4"
      },
      "source": [
        "df_green_2017.dropna()"
      ],
      "id": "pBm9wSWz5Olv",
      "execution_count": 12,
      "outputs": [
        {
          "output_type": "execute_result",
          "data": {
            "text/html": [
              "<div>\n",
              "<style scoped>\n",
              "    .dataframe tbody tr th:only-of-type {\n",
              "        vertical-align: middle;\n",
              "    }\n",
              "\n",
              "    .dataframe tbody tr th {\n",
              "        vertical-align: top;\n",
              "    }\n",
              "\n",
              "    .dataframe thead th {\n",
              "        text-align: right;\n",
              "    }\n",
              "</style>\n",
              "<table border=\"1\" class=\"dataframe\">\n",
              "  <thead>\n",
              "    <tr style=\"text-align: right;\">\n",
              "      <th></th>\n",
              "      <th>VendorID</th>\n",
              "      <th>lpep_pickup_datetime</th>\n",
              "      <th>lpep_dropoff_datetime</th>\n",
              "      <th>store_and_fwd_flag</th>\n",
              "      <th>RatecodeID</th>\n",
              "      <th>PULocationID</th>\n",
              "      <th>DOLocationID</th>\n",
              "      <th>passenger_count</th>\n",
              "      <th>trip_distance</th>\n",
              "      <th>fare_amount</th>\n",
              "      <th>extra</th>\n",
              "      <th>mta_tax</th>\n",
              "      <th>tip_amount</th>\n",
              "      <th>tolls_amount</th>\n",
              "      <th>ehail_fee</th>\n",
              "      <th>improvement_surcharge</th>\n",
              "      <th>total_amount</th>\n",
              "      <th>payment_type</th>\n",
              "      <th>trip_type</th>\n",
              "    </tr>\n",
              "  </thead>\n",
              "  <tbody>\n",
              "  </tbody>\n",
              "</table>\n",
              "</div>"
            ],
            "text/plain": [
              "Empty DataFrame\n",
              "Columns: [VendorID, lpep_pickup_datetime, lpep_dropoff_datetime, store_and_fwd_flag, RatecodeID, PULocationID, DOLocationID, passenger_count, trip_distance, fare_amount, extra, mta_tax, tip_amount, tolls_amount, ehail_fee, improvement_surcharge, total_amount, payment_type, trip_type]\n",
              "Index: []"
            ]
          },
          "metadata": {},
          "execution_count": 12
        }
      ]
    },
    {
      "cell_type": "code",
      "metadata": {
        "id": "e4390dee"
      },
      "source": [
        "df_green_2017.dropna(axis = 1, how ='all', inplace= True)"
      ],
      "id": "e4390dee",
      "execution_count": 15,
      "outputs": []
    },
    {
      "cell_type": "code",
      "metadata": {
        "id": "TMzaE52kcVJ0",
        "colab": {
          "base_uri": "https://localhost:8080/",
          "height": 226
        },
        "outputId": "c16ac457-8566-49bb-e37b-7575c3ce84b9"
      },
      "source": [
        "df_green_2017.head(5)"
      ],
      "id": "TMzaE52kcVJ0",
      "execution_count": 16,
      "outputs": [
        {
          "output_type": "execute_result",
          "data": {
            "text/html": [
              "<div>\n",
              "<style scoped>\n",
              "    .dataframe tbody tr th:only-of-type {\n",
              "        vertical-align: middle;\n",
              "    }\n",
              "\n",
              "    .dataframe tbody tr th {\n",
              "        vertical-align: top;\n",
              "    }\n",
              "\n",
              "    .dataframe thead th {\n",
              "        text-align: right;\n",
              "    }\n",
              "</style>\n",
              "<table border=\"1\" class=\"dataframe\">\n",
              "  <thead>\n",
              "    <tr style=\"text-align: right;\">\n",
              "      <th></th>\n",
              "      <th>VendorID</th>\n",
              "      <th>lpep_pickup_datetime</th>\n",
              "      <th>lpep_dropoff_datetime</th>\n",
              "      <th>store_and_fwd_flag</th>\n",
              "      <th>RatecodeID</th>\n",
              "      <th>PULocationID</th>\n",
              "      <th>DOLocationID</th>\n",
              "      <th>passenger_count</th>\n",
              "      <th>trip_distance</th>\n",
              "      <th>fare_amount</th>\n",
              "      <th>extra</th>\n",
              "      <th>mta_tax</th>\n",
              "      <th>tip_amount</th>\n",
              "      <th>tolls_amount</th>\n",
              "      <th>improvement_surcharge</th>\n",
              "      <th>total_amount</th>\n",
              "      <th>payment_type</th>\n",
              "      <th>trip_type</th>\n",
              "    </tr>\n",
              "  </thead>\n",
              "  <tbody>\n",
              "    <tr>\n",
              "      <th>0</th>\n",
              "      <td>2</td>\n",
              "      <td>2017-01-01 00:01:15</td>\n",
              "      <td>2017-01-01 00:11:05</td>\n",
              "      <td>N</td>\n",
              "      <td>1</td>\n",
              "      <td>42</td>\n",
              "      <td>166</td>\n",
              "      <td>1</td>\n",
              "      <td>1.71</td>\n",
              "      <td>9.0</td>\n",
              "      <td>0.0</td>\n",
              "      <td>0.5</td>\n",
              "      <td>0.00</td>\n",
              "      <td>0.0</td>\n",
              "      <td>0.3</td>\n",
              "      <td>9.80</td>\n",
              "      <td>2</td>\n",
              "      <td>1.0</td>\n",
              "    </tr>\n",
              "    <tr>\n",
              "      <th>1</th>\n",
              "      <td>2</td>\n",
              "      <td>2017-01-01 00:03:34</td>\n",
              "      <td>2017-01-01 00:09:00</td>\n",
              "      <td>N</td>\n",
              "      <td>1</td>\n",
              "      <td>75</td>\n",
              "      <td>74</td>\n",
              "      <td>1</td>\n",
              "      <td>1.44</td>\n",
              "      <td>6.5</td>\n",
              "      <td>0.5</td>\n",
              "      <td>0.5</td>\n",
              "      <td>0.00</td>\n",
              "      <td>0.0</td>\n",
              "      <td>0.3</td>\n",
              "      <td>7.80</td>\n",
              "      <td>2</td>\n",
              "      <td>1.0</td>\n",
              "    </tr>\n",
              "    <tr>\n",
              "      <th>2</th>\n",
              "      <td>2</td>\n",
              "      <td>2017-01-01 00:04:02</td>\n",
              "      <td>2017-01-01 00:12:55</td>\n",
              "      <td>N</td>\n",
              "      <td>1</td>\n",
              "      <td>82</td>\n",
              "      <td>70</td>\n",
              "      <td>5</td>\n",
              "      <td>3.45</td>\n",
              "      <td>12.0</td>\n",
              "      <td>0.5</td>\n",
              "      <td>0.5</td>\n",
              "      <td>2.66</td>\n",
              "      <td>0.0</td>\n",
              "      <td>0.3</td>\n",
              "      <td>15.96</td>\n",
              "      <td>1</td>\n",
              "      <td>1.0</td>\n",
              "    </tr>\n",
              "    <tr>\n",
              "      <th>3</th>\n",
              "      <td>2</td>\n",
              "      <td>2017-01-01 00:01:40</td>\n",
              "      <td>2017-01-01 00:14:23</td>\n",
              "      <td>N</td>\n",
              "      <td>1</td>\n",
              "      <td>255</td>\n",
              "      <td>232</td>\n",
              "      <td>1</td>\n",
              "      <td>2.11</td>\n",
              "      <td>10.5</td>\n",
              "      <td>0.5</td>\n",
              "      <td>0.5</td>\n",
              "      <td>0.00</td>\n",
              "      <td>0.0</td>\n",
              "      <td>0.3</td>\n",
              "      <td>11.80</td>\n",
              "      <td>2</td>\n",
              "      <td>1.0</td>\n",
              "    </tr>\n",
              "    <tr>\n",
              "      <th>4</th>\n",
              "      <td>2</td>\n",
              "      <td>2017-01-01 00:00:51</td>\n",
              "      <td>2017-01-01 00:18:55</td>\n",
              "      <td>N</td>\n",
              "      <td>1</td>\n",
              "      <td>166</td>\n",
              "      <td>239</td>\n",
              "      <td>1</td>\n",
              "      <td>2.76</td>\n",
              "      <td>11.5</td>\n",
              "      <td>0.5</td>\n",
              "      <td>0.5</td>\n",
              "      <td>0.00</td>\n",
              "      <td>0.0</td>\n",
              "      <td>0.3</td>\n",
              "      <td>12.80</td>\n",
              "      <td>2</td>\n",
              "      <td>1.0</td>\n",
              "    </tr>\n",
              "  </tbody>\n",
              "</table>\n",
              "</div>"
            ],
            "text/plain": [
              "   VendorID lpep_pickup_datetime  ... payment_type trip_type\n",
              "0         2  2017-01-01 00:01:15  ...            2       1.0\n",
              "1         2  2017-01-01 00:03:34  ...            2       1.0\n",
              "2         2  2017-01-01 00:04:02  ...            1       1.0\n",
              "3         2  2017-01-01 00:01:40  ...            2       1.0\n",
              "4         2  2017-01-01 00:00:51  ...            2       1.0\n",
              "\n",
              "[5 rows x 18 columns]"
            ]
          },
          "metadata": {},
          "execution_count": 16
        }
      ]
    },
    {
      "cell_type": "code",
      "metadata": {
        "id": "BqKQMvu6gr3o",
        "colab": {
          "base_uri": "https://localhost:8080/",
          "height": 338
        },
        "outputId": "4e0fb918-a688-4604-9962-2e95322f6eb7"
      },
      "source": [
        "df_green_2017.describe()"
      ],
      "id": "BqKQMvu6gr3o",
      "execution_count": 17,
      "outputs": [
        {
          "output_type": "execute_result",
          "data": {
            "text/html": [
              "<div>\n",
              "<style scoped>\n",
              "    .dataframe tbody tr th:only-of-type {\n",
              "        vertical-align: middle;\n",
              "    }\n",
              "\n",
              "    .dataframe tbody tr th {\n",
              "        vertical-align: top;\n",
              "    }\n",
              "\n",
              "    .dataframe thead th {\n",
              "        text-align: right;\n",
              "    }\n",
              "</style>\n",
              "<table border=\"1\" class=\"dataframe\">\n",
              "  <thead>\n",
              "    <tr style=\"text-align: right;\">\n",
              "      <th></th>\n",
              "      <th>VendorID</th>\n",
              "      <th>RatecodeID</th>\n",
              "      <th>PULocationID</th>\n",
              "      <th>DOLocationID</th>\n",
              "      <th>passenger_count</th>\n",
              "      <th>trip_distance</th>\n",
              "      <th>fare_amount</th>\n",
              "      <th>extra</th>\n",
              "      <th>mta_tax</th>\n",
              "      <th>tip_amount</th>\n",
              "      <th>tolls_amount</th>\n",
              "      <th>improvement_surcharge</th>\n",
              "      <th>total_amount</th>\n",
              "      <th>payment_type</th>\n",
              "      <th>trip_type</th>\n",
              "    </tr>\n",
              "  </thead>\n",
              "  <tbody>\n",
              "    <tr>\n",
              "      <th>count</th>\n",
              "      <td>1.174067e+07</td>\n",
              "      <td>1.174067e+07</td>\n",
              "      <td>1.174067e+07</td>\n",
              "      <td>1.174067e+07</td>\n",
              "      <td>1.174067e+07</td>\n",
              "      <td>1.174067e+07</td>\n",
              "      <td>1.174067e+07</td>\n",
              "      <td>1.174067e+07</td>\n",
              "      <td>1.174067e+07</td>\n",
              "      <td>1.174067e+07</td>\n",
              "      <td>1.174067e+07</td>\n",
              "      <td>1.174067e+07</td>\n",
              "      <td>1.174067e+07</td>\n",
              "      <td>1.174067e+07</td>\n",
              "      <td>1.174064e+07</td>\n",
              "    </tr>\n",
              "    <tr>\n",
              "      <th>mean</th>\n",
              "      <td>1.804665e+00</td>\n",
              "      <td>1.077787e+00</td>\n",
              "      <td>1.118996e+02</td>\n",
              "      <td>1.290602e+02</td>\n",
              "      <td>1.364449e+00</td>\n",
              "      <td>2.684420e+00</td>\n",
              "      <td>1.179504e+01</td>\n",
              "      <td>3.527367e-01</td>\n",
              "      <td>4.879347e-01</td>\n",
              "      <td>1.149689e+00</td>\n",
              "      <td>1.036454e-01</td>\n",
              "      <td>2.930474e-01</td>\n",
              "      <td>1.424200e+01</td>\n",
              "      <td>1.506124e+00</td>\n",
              "      <td>1.018406e+00</td>\n",
              "    </tr>\n",
              "    <tr>\n",
              "      <th>std</th>\n",
              "      <td>3.964585e-01</td>\n",
              "      <td>5.625980e-01</td>\n",
              "      <td>7.588120e+01</td>\n",
              "      <td>7.723227e+01</td>\n",
              "      <td>1.039248e+00</td>\n",
              "      <td>2.828545e+00</td>\n",
              "      <td>9.875311e+00</td>\n",
              "      <td>3.891518e-01</td>\n",
              "      <td>8.339196e-02</td>\n",
              "      <td>2.173319e+00</td>\n",
              "      <td>2.662594e+00</td>\n",
              "      <td>4.924564e-02</td>\n",
              "      <td>1.151100e+01</td>\n",
              "      <td>5.245950e-01</td>\n",
              "      <td>1.344143e-01</td>\n",
              "    </tr>\n",
              "    <tr>\n",
              "      <th>min</th>\n",
              "      <td>1.000000e+00</td>\n",
              "      <td>1.000000e+00</td>\n",
              "      <td>1.000000e+00</td>\n",
              "      <td>1.000000e+00</td>\n",
              "      <td>0.000000e+00</td>\n",
              "      <td>0.000000e+00</td>\n",
              "      <td>-4.800000e+02</td>\n",
              "      <td>-4.500000e+00</td>\n",
              "      <td>-5.000000e-01</td>\n",
              "      <td>-1.010000e+02</td>\n",
              "      <td>-8.000000e+01</td>\n",
              "      <td>-3.000000e-01</td>\n",
              "      <td>-4.800000e+02</td>\n",
              "      <td>1.000000e+00</td>\n",
              "      <td>1.000000e+00</td>\n",
              "    </tr>\n",
              "    <tr>\n",
              "      <th>25%</th>\n",
              "      <td>2.000000e+00</td>\n",
              "      <td>1.000000e+00</td>\n",
              "      <td>4.900000e+01</td>\n",
              "      <td>6.100000e+01</td>\n",
              "      <td>1.000000e+00</td>\n",
              "      <td>1.000000e+00</td>\n",
              "      <td>6.000000e+00</td>\n",
              "      <td>0.000000e+00</td>\n",
              "      <td>5.000000e-01</td>\n",
              "      <td>0.000000e+00</td>\n",
              "      <td>0.000000e+00</td>\n",
              "      <td>3.000000e-01</td>\n",
              "      <td>7.800000e+00</td>\n",
              "      <td>1.000000e+00</td>\n",
              "      <td>1.000000e+00</td>\n",
              "    </tr>\n",
              "    <tr>\n",
              "      <th>50%</th>\n",
              "      <td>2.000000e+00</td>\n",
              "      <td>1.000000e+00</td>\n",
              "      <td>8.200000e+01</td>\n",
              "      <td>1.290000e+02</td>\n",
              "      <td>1.000000e+00</td>\n",
              "      <td>1.750000e+00</td>\n",
              "      <td>9.000000e+00</td>\n",
              "      <td>5.000000e-01</td>\n",
              "      <td>5.000000e-01</td>\n",
              "      <td>0.000000e+00</td>\n",
              "      <td>0.000000e+00</td>\n",
              "      <td>3.000000e-01</td>\n",
              "      <td>1.115000e+01</td>\n",
              "      <td>1.000000e+00</td>\n",
              "      <td>1.000000e+00</td>\n",
              "    </tr>\n",
              "    <tr>\n",
              "      <th>75%</th>\n",
              "      <td>2.000000e+00</td>\n",
              "      <td>1.000000e+00</td>\n",
              "      <td>1.660000e+02</td>\n",
              "      <td>1.930000e+02</td>\n",
              "      <td>1.000000e+00</td>\n",
              "      <td>3.300000e+00</td>\n",
              "      <td>1.450000e+01</td>\n",
              "      <td>5.000000e-01</td>\n",
              "      <td>5.000000e-01</td>\n",
              "      <td>1.950000e+00</td>\n",
              "      <td>0.000000e+00</td>\n",
              "      <td>3.000000e-01</td>\n",
              "      <td>1.694000e+01</td>\n",
              "      <td>2.000000e+00</td>\n",
              "      <td>1.000000e+00</td>\n",
              "    </tr>\n",
              "    <tr>\n",
              "      <th>max</th>\n",
              "      <td>2.000000e+00</td>\n",
              "      <td>9.900000e+01</td>\n",
              "      <td>2.650000e+02</td>\n",
              "      <td>2.650000e+02</td>\n",
              "      <td>9.000000e+00</td>\n",
              "      <td>6.400000e+02</td>\n",
              "      <td>6.003500e+03</td>\n",
              "      <td>3.000000e+01</td>\n",
              "      <td>8.300000e-01</td>\n",
              "      <td>4.495600e+02</td>\n",
              "      <td>7.999920e+03</td>\n",
              "      <td>3.000000e-01</td>\n",
              "      <td>8.999910e+03</td>\n",
              "      <td>5.000000e+00</td>\n",
              "      <td>2.000000e+00</td>\n",
              "    </tr>\n",
              "  </tbody>\n",
              "</table>\n",
              "</div>"
            ],
            "text/plain": [
              "           VendorID    RatecodeID  ...  payment_type     trip_type\n",
              "count  1.174067e+07  1.174067e+07  ...  1.174067e+07  1.174064e+07\n",
              "mean   1.804665e+00  1.077787e+00  ...  1.506124e+00  1.018406e+00\n",
              "std    3.964585e-01  5.625980e-01  ...  5.245950e-01  1.344143e-01\n",
              "min    1.000000e+00  1.000000e+00  ...  1.000000e+00  1.000000e+00\n",
              "25%    2.000000e+00  1.000000e+00  ...  1.000000e+00  1.000000e+00\n",
              "50%    2.000000e+00  1.000000e+00  ...  1.000000e+00  1.000000e+00\n",
              "75%    2.000000e+00  1.000000e+00  ...  2.000000e+00  1.000000e+00\n",
              "max    2.000000e+00  9.900000e+01  ...  5.000000e+00  2.000000e+00\n",
              "\n",
              "[8 rows x 15 columns]"
            ]
          },
          "metadata": {},
          "execution_count": 17
        }
      ]
    },
    {
      "cell_type": "code",
      "metadata": {
        "id": "ry7CjhlFhKt6",
        "colab": {
          "base_uri": "https://localhost:8080/"
        },
        "outputId": "eae6f6ee-047b-45b1-ab8e-0c4d99c18f6a"
      },
      "source": [
        "df_green_2017.isnull().sum()\n"
      ],
      "id": "ry7CjhlFhKt6",
      "execution_count": 18,
      "outputs": [
        {
          "output_type": "execute_result",
          "data": {
            "text/plain": [
              "VendorID                  0\n",
              "lpep_pickup_datetime      0\n",
              "lpep_dropoff_datetime     0\n",
              "store_and_fwd_flag        0\n",
              "RatecodeID                0\n",
              "PULocationID              0\n",
              "DOLocationID              0\n",
              "passenger_count           0\n",
              "trip_distance             0\n",
              "fare_amount               0\n",
              "extra                     0\n",
              "mta_tax                   0\n",
              "tip_amount                0\n",
              "tolls_amount              0\n",
              "improvement_surcharge     0\n",
              "total_amount              0\n",
              "payment_type              0\n",
              "trip_type                27\n",
              "dtype: int64"
            ]
          },
          "metadata": {},
          "execution_count": 18
        }
      ]
    },
    {
      "cell_type": "code",
      "metadata": {
        "id": "Auz2dfmRmPV0"
      },
      "source": [
        "df_green_2017.dropna(subset = [\"trip_type\"],inplace= True)\n"
      ],
      "id": "Auz2dfmRmPV0",
      "execution_count": 20,
      "outputs": []
    },
    {
      "cell_type": "code",
      "metadata": {
        "id": "KwJG18PIucsM",
        "colab": {
          "base_uri": "https://localhost:8080/"
        },
        "outputId": "f011e7c8-8094-409a-9fa8-0a4c4b535a22"
      },
      "source": [
        "df_green_2017.isnull().sum()"
      ],
      "id": "KwJG18PIucsM",
      "execution_count": 21,
      "outputs": [
        {
          "output_type": "execute_result",
          "data": {
            "text/plain": [
              "VendorID                 0\n",
              "lpep_pickup_datetime     0\n",
              "lpep_dropoff_datetime    0\n",
              "store_and_fwd_flag       0\n",
              "RatecodeID               0\n",
              "PULocationID             0\n",
              "DOLocationID             0\n",
              "passenger_count          0\n",
              "trip_distance            0\n",
              "fare_amount              0\n",
              "extra                    0\n",
              "mta_tax                  0\n",
              "tip_amount               0\n",
              "tolls_amount             0\n",
              "improvement_surcharge    0\n",
              "total_amount             0\n",
              "payment_type             0\n",
              "trip_type                0\n",
              "dtype: int64"
            ]
          },
          "metadata": {},
          "execution_count": 21
        }
      ]
    },
    {
      "cell_type": "code",
      "metadata": {
        "id": "ukg-x-4zvIht"
      },
      "source": [
        "num = df_green_2017._get_numeric_data()"
      ],
      "id": "ukg-x-4zvIht",
      "execution_count": 24,
      "outputs": []
    },
    {
      "cell_type": "code",
      "metadata": {
        "id": "3tb3WQC1vjt2"
      },
      "source": [
        "num[num < 0] = 0"
      ],
      "id": "3tb3WQC1vjt2",
      "execution_count": null,
      "outputs": []
    },
    {
      "cell_type": "code",
      "metadata": {
        "id": "7SOyhZ9kwCg-"
      },
      "source": [
        ""
      ],
      "id": "7SOyhZ9kwCg-",
      "execution_count": null,
      "outputs": []
    },
    {
      "cell_type": "code",
      "metadata": {
        "id": "5-6w9ycIwbxE"
      },
      "source": [
        ""
      ],
      "id": "5-6w9ycIwbxE",
      "execution_count": null,
      "outputs": []
    },
    {
      "cell_type": "code",
      "metadata": {
        "id": "ag4YRmJzweLE"
      },
      "source": [
        ""
      ],
      "id": "ag4YRmJzweLE",
      "execution_count": null,
      "outputs": []
    }
  ]
}