{
  "nbformat": 4,
  "nbformat_minor": 5,
  "metadata": {
    "kernelspec": {
      "display_name": "Python 3",
      "language": "python",
      "name": "python3"
    },
    "language_info": {
      "codemirror_mode": {
        "name": "ipython",
        "version": 3
      },
      "file_extension": ".py",
      "mimetype": "text/x-python",
      "name": "python",
      "nbconvert_exporter": "python",
      "pygments_lexer": "ipython3",
      "version": "3.8.8"
    },
    "colab": {
      "name": "Removed nul values of 2017 green taxi data file .ipynb",
      "provenance": [],
      "collapsed_sections": []
    }
  },
  "cells": [
    {
      "cell_type": "code",
      "metadata": {
        "id": "670a41ba"
      },
      "source": [
        "import pandas as pd\n",
        "import numpy as np\n",
        "import seaborn as sns\n",
        "import matplotlib.pyplot as plt"
      ],
      "id": "670a41ba",
      "execution_count": 2,
      "outputs": []
    },
    {
      "cell_type": "code",
      "metadata": {
        "colab": {
          "base_uri": "https://localhost:8080/"
        },
        "id": "KMq-2mizFsml",
        "outputId": "687809bc-c979-4661-b158-ca844752428e"
      },
      "source": [
        "from google.colab import drive\n",
        "drive.mount('/content/drive')"
      ],
      "id": "KMq-2mizFsml",
      "execution_count": 3,
      "outputs": [
        {
          "output_type": "stream",
          "name": "stdout",
          "text": [
            "Drive already mounted at /content/drive; to attempt to forcibly remount, call drive.mount(\"/content/drive\", force_remount=True).\n"
          ]
        }
      ]
    },
    {
      "cell_type": "markdown",
      "metadata": {
        "id": "zEDghg4YCXVW"
      },
      "source": [
        "# New Section"
      ],
      "id": "zEDghg4YCXVW"
    },
    {
      "cell_type": "markdown",
      "metadata": {
        "id": "ppFp90VfCX7K"
      },
      "source": [
        "# New Section"
      ],
      "id": "ppFp90VfCX7K"
    },
    {
      "cell_type": "code",
      "metadata": {
        "id": "52d84c72"
      },
      "source": [
        "import warnings\n",
        "warnings.filterwarnings(\"ignore\")"
      ],
      "id": "52d84c72",
      "execution_count": 4,
      "outputs": []
    },
    {
      "cell_type": "code",
      "metadata": {
        "id": "c614b0ed"
      },
      "source": [
        "df_green_2019 =pd.read_csv('/content/drive/MyDrive/NYC/2019/combined/2019_green_combined.csv')\n",
        "\n"
      ],
      "id": "c614b0ed",
      "execution_count": 31,
      "outputs": []
    },
    {
      "cell_type": "code",
      "metadata": {
        "colab": {
          "base_uri": "https://localhost:8080/",
          "height": 226
        },
        "id": "a5MCyY8W1Frf",
        "outputId": "398d90a8-3f48-40cc-8cb8-a4c0f957fb1b"
      },
      "source": [
        "df_green_2019.head(5)\n"
      ],
      "id": "a5MCyY8W1Frf",
      "execution_count": 32,
      "outputs": [
        {
          "output_type": "execute_result",
          "data": {
            "text/html": [
              "<div>\n",
              "<style scoped>\n",
              "    .dataframe tbody tr th:only-of-type {\n",
              "        vertical-align: middle;\n",
              "    }\n",
              "\n",
              "    .dataframe tbody tr th {\n",
              "        vertical-align: top;\n",
              "    }\n",
              "\n",
              "    .dataframe thead th {\n",
              "        text-align: right;\n",
              "    }\n",
              "</style>\n",
              "<table border=\"1\" class=\"dataframe\">\n",
              "  <thead>\n",
              "    <tr style=\"text-align: right;\">\n",
              "      <th></th>\n",
              "      <th>VendorID</th>\n",
              "      <th>lpep_pickup_datetime</th>\n",
              "      <th>lpep_dropoff_datetime</th>\n",
              "      <th>store_and_fwd_flag</th>\n",
              "      <th>RatecodeID</th>\n",
              "      <th>PULocationID</th>\n",
              "      <th>DOLocationID</th>\n",
              "      <th>passenger_count</th>\n",
              "      <th>trip_distance</th>\n",
              "      <th>fare_amount</th>\n",
              "      <th>extra</th>\n",
              "      <th>mta_tax</th>\n",
              "      <th>tip_amount</th>\n",
              "      <th>tolls_amount</th>\n",
              "      <th>ehail_fee</th>\n",
              "      <th>improvement_surcharge</th>\n",
              "      <th>total_amount</th>\n",
              "      <th>payment_type</th>\n",
              "      <th>trip_type</th>\n",
              "      <th>congestion_surcharge</th>\n",
              "    </tr>\n",
              "  </thead>\n",
              "  <tbody>\n",
              "    <tr>\n",
              "      <th>0</th>\n",
              "      <td>2.0</td>\n",
              "      <td>2018-12-21 15:17:29</td>\n",
              "      <td>2018-12-21 15:18:57</td>\n",
              "      <td>N</td>\n",
              "      <td>1.0</td>\n",
              "      <td>264</td>\n",
              "      <td>264</td>\n",
              "      <td>5.0</td>\n",
              "      <td>0.00</td>\n",
              "      <td>3.0</td>\n",
              "      <td>0.5</td>\n",
              "      <td>0.5</td>\n",
              "      <td>0.00</td>\n",
              "      <td>0.0</td>\n",
              "      <td>NaN</td>\n",
              "      <td>0.3</td>\n",
              "      <td>4.30</td>\n",
              "      <td>2.0</td>\n",
              "      <td>1.0</td>\n",
              "      <td>NaN</td>\n",
              "    </tr>\n",
              "    <tr>\n",
              "      <th>1</th>\n",
              "      <td>2.0</td>\n",
              "      <td>2019-01-01 00:10:16</td>\n",
              "      <td>2019-01-01 00:16:32</td>\n",
              "      <td>N</td>\n",
              "      <td>1.0</td>\n",
              "      <td>97</td>\n",
              "      <td>49</td>\n",
              "      <td>2.0</td>\n",
              "      <td>0.86</td>\n",
              "      <td>6.0</td>\n",
              "      <td>0.5</td>\n",
              "      <td>0.5</td>\n",
              "      <td>0.00</td>\n",
              "      <td>0.0</td>\n",
              "      <td>NaN</td>\n",
              "      <td>0.3</td>\n",
              "      <td>7.30</td>\n",
              "      <td>2.0</td>\n",
              "      <td>1.0</td>\n",
              "      <td>NaN</td>\n",
              "    </tr>\n",
              "    <tr>\n",
              "      <th>2</th>\n",
              "      <td>2.0</td>\n",
              "      <td>2019-01-01 00:27:11</td>\n",
              "      <td>2019-01-01 00:31:38</td>\n",
              "      <td>N</td>\n",
              "      <td>1.0</td>\n",
              "      <td>49</td>\n",
              "      <td>189</td>\n",
              "      <td>2.0</td>\n",
              "      <td>0.66</td>\n",
              "      <td>4.5</td>\n",
              "      <td>0.5</td>\n",
              "      <td>0.5</td>\n",
              "      <td>0.00</td>\n",
              "      <td>0.0</td>\n",
              "      <td>NaN</td>\n",
              "      <td>0.3</td>\n",
              "      <td>5.80</td>\n",
              "      <td>1.0</td>\n",
              "      <td>1.0</td>\n",
              "      <td>NaN</td>\n",
              "    </tr>\n",
              "    <tr>\n",
              "      <th>3</th>\n",
              "      <td>2.0</td>\n",
              "      <td>2019-01-01 00:46:20</td>\n",
              "      <td>2019-01-01 01:04:54</td>\n",
              "      <td>N</td>\n",
              "      <td>1.0</td>\n",
              "      <td>189</td>\n",
              "      <td>17</td>\n",
              "      <td>2.0</td>\n",
              "      <td>2.68</td>\n",
              "      <td>13.5</td>\n",
              "      <td>0.5</td>\n",
              "      <td>0.5</td>\n",
              "      <td>2.96</td>\n",
              "      <td>0.0</td>\n",
              "      <td>NaN</td>\n",
              "      <td>0.3</td>\n",
              "      <td>19.71</td>\n",
              "      <td>1.0</td>\n",
              "      <td>1.0</td>\n",
              "      <td>NaN</td>\n",
              "    </tr>\n",
              "    <tr>\n",
              "      <th>4</th>\n",
              "      <td>2.0</td>\n",
              "      <td>2019-01-01 00:19:06</td>\n",
              "      <td>2019-01-01 00:39:43</td>\n",
              "      <td>N</td>\n",
              "      <td>1.0</td>\n",
              "      <td>82</td>\n",
              "      <td>258</td>\n",
              "      <td>1.0</td>\n",
              "      <td>4.53</td>\n",
              "      <td>18.0</td>\n",
              "      <td>0.5</td>\n",
              "      <td>0.5</td>\n",
              "      <td>0.00</td>\n",
              "      <td>0.0</td>\n",
              "      <td>NaN</td>\n",
              "      <td>0.3</td>\n",
              "      <td>19.30</td>\n",
              "      <td>2.0</td>\n",
              "      <td>1.0</td>\n",
              "      <td>NaN</td>\n",
              "    </tr>\n",
              "  </tbody>\n",
              "</table>\n",
              "</div>"
            ],
            "text/plain": [
              "   VendorID lpep_pickup_datetime  ... trip_type congestion_surcharge\n",
              "0       2.0  2018-12-21 15:17:29  ...       1.0                  NaN\n",
              "1       2.0  2019-01-01 00:10:16  ...       1.0                  NaN\n",
              "2       2.0  2019-01-01 00:27:11  ...       1.0                  NaN\n",
              "3       2.0  2019-01-01 00:46:20  ...       1.0                  NaN\n",
              "4       2.0  2019-01-01 00:19:06  ...       1.0                  NaN\n",
              "\n",
              "[5 rows x 20 columns]"
            ]
          },
          "metadata": {},
          "execution_count": 32
        }
      ]
    },
    {
      "cell_type": "code",
      "metadata": {
        "colab": {
          "base_uri": "https://localhost:8080/"
        },
        "id": "zvTuCxlz1Fon",
        "outputId": "2c30c258-232a-440e-e3bf-11d93d26236c"
      },
      "source": [
        "df_green_2019.info()\n"
      ],
      "id": "zvTuCxlz1Fon",
      "execution_count": 33,
      "outputs": [
        {
          "output_type": "stream",
          "name": "stdout",
          "text": [
            "<class 'pandas.core.frame.DataFrame'>\n",
            "RangeIndex: 6044050 entries, 0 to 6044049\n",
            "Data columns (total 20 columns):\n",
            " #   Column                 Dtype  \n",
            "---  ------                 -----  \n",
            " 0   VendorID               float64\n",
            " 1   lpep_pickup_datetime   object \n",
            " 2   lpep_dropoff_datetime  object \n",
            " 3   store_and_fwd_flag     object \n",
            " 4   RatecodeID             float64\n",
            " 5   PULocationID           int64  \n",
            " 6   DOLocationID           int64  \n",
            " 7   passenger_count        float64\n",
            " 8   trip_distance          float64\n",
            " 9   fare_amount            float64\n",
            " 10  extra                  float64\n",
            " 11  mta_tax                float64\n",
            " 12  tip_amount             float64\n",
            " 13  tolls_amount           float64\n",
            " 14  ehail_fee              float64\n",
            " 15  improvement_surcharge  float64\n",
            " 16  total_amount           float64\n",
            " 17  payment_type           float64\n",
            " 18  trip_type              float64\n",
            " 19  congestion_surcharge   float64\n",
            "dtypes: float64(15), int64(2), object(3)\n",
            "memory usage: 922.2+ MB\n"
          ]
        }
      ]
    },
    {
      "cell_type": "code",
      "metadata": {
        "id": "-kf0wb4NFAda",
        "colab": {
          "base_uri": "https://localhost:8080/"
        },
        "outputId": "32f0dccd-aa9c-4fe5-fc37-696e80d1369a"
      },
      "source": [
        "print(\"Shape of dataset = \",df_green_2019.shape)\n"
      ],
      "id": "-kf0wb4NFAda",
      "execution_count": 34,
      "outputs": [
        {
          "output_type": "stream",
          "name": "stdout",
          "text": [
            "Shape of dataset =  (6044050, 20)\n"
          ]
        }
      ]
    },
    {
      "cell_type": "code",
      "metadata": {
        "colab": {
          "base_uri": "https://localhost:8080/"
        },
        "id": "S0pz6pHG3vjG",
        "outputId": "ebed3dec-8a68-43e4-8dd7-3643e4ba90d1"
      },
      "source": [
        "df_green_2019.isnull().sum()\n",
        "\n"
      ],
      "id": "S0pz6pHG3vjG",
      "execution_count": 35,
      "outputs": [
        {
          "output_type": "execute_result",
          "data": {
            "text/plain": [
              "VendorID                  414107\n",
              "lpep_pickup_datetime           0\n",
              "lpep_dropoff_datetime          0\n",
              "store_and_fwd_flag        414107\n",
              "RatecodeID                414107\n",
              "PULocationID                   0\n",
              "DOLocationID                   0\n",
              "passenger_count           414107\n",
              "trip_distance                  0\n",
              "fare_amount                    0\n",
              "extra                          0\n",
              "mta_tax                        0\n",
              "tip_amount                     0\n",
              "tolls_amount                   0\n",
              "ehail_fee                6043696\n",
              "improvement_surcharge          2\n",
              "total_amount                   0\n",
              "payment_type              414107\n",
              "trip_type                 414466\n",
              "congestion_surcharge      960489\n",
              "dtype: int64"
            ]
          },
          "metadata": {},
          "execution_count": 35
        }
      ]
    },
    {
      "cell_type": "code",
      "metadata": {
        "id": "pBm9wSWz5Olv",
        "colab": {
          "base_uri": "https://localhost:8080/",
          "height": 70
        },
        "outputId": "2cd64e7c-cb66-4244-bf9c-9ce38a5b36a9"
      },
      "source": [
        "df_green_2019.dropna()"
      ],
      "id": "pBm9wSWz5Olv",
      "execution_count": 36,
      "outputs": [
        {
          "output_type": "execute_result",
          "data": {
            "text/html": [
              "<div>\n",
              "<style scoped>\n",
              "    .dataframe tbody tr th:only-of-type {\n",
              "        vertical-align: middle;\n",
              "    }\n",
              "\n",
              "    .dataframe tbody tr th {\n",
              "        vertical-align: top;\n",
              "    }\n",
              "\n",
              "    .dataframe thead th {\n",
              "        text-align: right;\n",
              "    }\n",
              "</style>\n",
              "<table border=\"1\" class=\"dataframe\">\n",
              "  <thead>\n",
              "    <tr style=\"text-align: right;\">\n",
              "      <th></th>\n",
              "      <th>VendorID</th>\n",
              "      <th>lpep_pickup_datetime</th>\n",
              "      <th>lpep_dropoff_datetime</th>\n",
              "      <th>store_and_fwd_flag</th>\n",
              "      <th>RatecodeID</th>\n",
              "      <th>PULocationID</th>\n",
              "      <th>DOLocationID</th>\n",
              "      <th>passenger_count</th>\n",
              "      <th>trip_distance</th>\n",
              "      <th>fare_amount</th>\n",
              "      <th>extra</th>\n",
              "      <th>mta_tax</th>\n",
              "      <th>tip_amount</th>\n",
              "      <th>tolls_amount</th>\n",
              "      <th>ehail_fee</th>\n",
              "      <th>improvement_surcharge</th>\n",
              "      <th>total_amount</th>\n",
              "      <th>payment_type</th>\n",
              "      <th>trip_type</th>\n",
              "      <th>congestion_surcharge</th>\n",
              "    </tr>\n",
              "  </thead>\n",
              "  <tbody>\n",
              "  </tbody>\n",
              "</table>\n",
              "</div>"
            ],
            "text/plain": [
              "Empty DataFrame\n",
              "Columns: [VendorID, lpep_pickup_datetime, lpep_dropoff_datetime, store_and_fwd_flag, RatecodeID, PULocationID, DOLocationID, passenger_count, trip_distance, fare_amount, extra, mta_tax, tip_amount, tolls_amount, ehail_fee, improvement_surcharge, total_amount, payment_type, trip_type, congestion_surcharge]\n",
              "Index: []"
            ]
          },
          "metadata": {},
          "execution_count": 36
        }
      ]
    },
    {
      "cell_type": "code",
      "metadata": {
        "id": "e4390dee"
      },
      "source": [
        "df_green_2019.dropna(axis = 1, how ='all', inplace= True)"
      ],
      "id": "e4390dee",
      "execution_count": 37,
      "outputs": []
    },
    {
      "cell_type": "code",
      "metadata": {
        "id": "TMzaE52kcVJ0",
        "colab": {
          "base_uri": "https://localhost:8080/",
          "height": 226
        },
        "outputId": "fe4ecf46-e4e8-4692-f885-56bf56344757"
      },
      "source": [
        "df_green_2019.head(5)"
      ],
      "id": "TMzaE52kcVJ0",
      "execution_count": 38,
      "outputs": [
        {
          "output_type": "execute_result",
          "data": {
            "text/html": [
              "<div>\n",
              "<style scoped>\n",
              "    .dataframe tbody tr th:only-of-type {\n",
              "        vertical-align: middle;\n",
              "    }\n",
              "\n",
              "    .dataframe tbody tr th {\n",
              "        vertical-align: top;\n",
              "    }\n",
              "\n",
              "    .dataframe thead th {\n",
              "        text-align: right;\n",
              "    }\n",
              "</style>\n",
              "<table border=\"1\" class=\"dataframe\">\n",
              "  <thead>\n",
              "    <tr style=\"text-align: right;\">\n",
              "      <th></th>\n",
              "      <th>VendorID</th>\n",
              "      <th>lpep_pickup_datetime</th>\n",
              "      <th>lpep_dropoff_datetime</th>\n",
              "      <th>store_and_fwd_flag</th>\n",
              "      <th>RatecodeID</th>\n",
              "      <th>PULocationID</th>\n",
              "      <th>DOLocationID</th>\n",
              "      <th>passenger_count</th>\n",
              "      <th>trip_distance</th>\n",
              "      <th>fare_amount</th>\n",
              "      <th>extra</th>\n",
              "      <th>mta_tax</th>\n",
              "      <th>tip_amount</th>\n",
              "      <th>tolls_amount</th>\n",
              "      <th>ehail_fee</th>\n",
              "      <th>improvement_surcharge</th>\n",
              "      <th>total_amount</th>\n",
              "      <th>payment_type</th>\n",
              "      <th>trip_type</th>\n",
              "      <th>congestion_surcharge</th>\n",
              "    </tr>\n",
              "  </thead>\n",
              "  <tbody>\n",
              "    <tr>\n",
              "      <th>0</th>\n",
              "      <td>2.0</td>\n",
              "      <td>2018-12-21 15:17:29</td>\n",
              "      <td>2018-12-21 15:18:57</td>\n",
              "      <td>N</td>\n",
              "      <td>1.0</td>\n",
              "      <td>264</td>\n",
              "      <td>264</td>\n",
              "      <td>5.0</td>\n",
              "      <td>0.00</td>\n",
              "      <td>3.0</td>\n",
              "      <td>0.5</td>\n",
              "      <td>0.5</td>\n",
              "      <td>0.00</td>\n",
              "      <td>0.0</td>\n",
              "      <td>NaN</td>\n",
              "      <td>0.3</td>\n",
              "      <td>4.30</td>\n",
              "      <td>2.0</td>\n",
              "      <td>1.0</td>\n",
              "      <td>NaN</td>\n",
              "    </tr>\n",
              "    <tr>\n",
              "      <th>1</th>\n",
              "      <td>2.0</td>\n",
              "      <td>2019-01-01 00:10:16</td>\n",
              "      <td>2019-01-01 00:16:32</td>\n",
              "      <td>N</td>\n",
              "      <td>1.0</td>\n",
              "      <td>97</td>\n",
              "      <td>49</td>\n",
              "      <td>2.0</td>\n",
              "      <td>0.86</td>\n",
              "      <td>6.0</td>\n",
              "      <td>0.5</td>\n",
              "      <td>0.5</td>\n",
              "      <td>0.00</td>\n",
              "      <td>0.0</td>\n",
              "      <td>NaN</td>\n",
              "      <td>0.3</td>\n",
              "      <td>7.30</td>\n",
              "      <td>2.0</td>\n",
              "      <td>1.0</td>\n",
              "      <td>NaN</td>\n",
              "    </tr>\n",
              "    <tr>\n",
              "      <th>2</th>\n",
              "      <td>2.0</td>\n",
              "      <td>2019-01-01 00:27:11</td>\n",
              "      <td>2019-01-01 00:31:38</td>\n",
              "      <td>N</td>\n",
              "      <td>1.0</td>\n",
              "      <td>49</td>\n",
              "      <td>189</td>\n",
              "      <td>2.0</td>\n",
              "      <td>0.66</td>\n",
              "      <td>4.5</td>\n",
              "      <td>0.5</td>\n",
              "      <td>0.5</td>\n",
              "      <td>0.00</td>\n",
              "      <td>0.0</td>\n",
              "      <td>NaN</td>\n",
              "      <td>0.3</td>\n",
              "      <td>5.80</td>\n",
              "      <td>1.0</td>\n",
              "      <td>1.0</td>\n",
              "      <td>NaN</td>\n",
              "    </tr>\n",
              "    <tr>\n",
              "      <th>3</th>\n",
              "      <td>2.0</td>\n",
              "      <td>2019-01-01 00:46:20</td>\n",
              "      <td>2019-01-01 01:04:54</td>\n",
              "      <td>N</td>\n",
              "      <td>1.0</td>\n",
              "      <td>189</td>\n",
              "      <td>17</td>\n",
              "      <td>2.0</td>\n",
              "      <td>2.68</td>\n",
              "      <td>13.5</td>\n",
              "      <td>0.5</td>\n",
              "      <td>0.5</td>\n",
              "      <td>2.96</td>\n",
              "      <td>0.0</td>\n",
              "      <td>NaN</td>\n",
              "      <td>0.3</td>\n",
              "      <td>19.71</td>\n",
              "      <td>1.0</td>\n",
              "      <td>1.0</td>\n",
              "      <td>NaN</td>\n",
              "    </tr>\n",
              "    <tr>\n",
              "      <th>4</th>\n",
              "      <td>2.0</td>\n",
              "      <td>2019-01-01 00:19:06</td>\n",
              "      <td>2019-01-01 00:39:43</td>\n",
              "      <td>N</td>\n",
              "      <td>1.0</td>\n",
              "      <td>82</td>\n",
              "      <td>258</td>\n",
              "      <td>1.0</td>\n",
              "      <td>4.53</td>\n",
              "      <td>18.0</td>\n",
              "      <td>0.5</td>\n",
              "      <td>0.5</td>\n",
              "      <td>0.00</td>\n",
              "      <td>0.0</td>\n",
              "      <td>NaN</td>\n",
              "      <td>0.3</td>\n",
              "      <td>19.30</td>\n",
              "      <td>2.0</td>\n",
              "      <td>1.0</td>\n",
              "      <td>NaN</td>\n",
              "    </tr>\n",
              "  </tbody>\n",
              "</table>\n",
              "</div>"
            ],
            "text/plain": [
              "   VendorID lpep_pickup_datetime  ... trip_type congestion_surcharge\n",
              "0       2.0  2018-12-21 15:17:29  ...       1.0                  NaN\n",
              "1       2.0  2019-01-01 00:10:16  ...       1.0                  NaN\n",
              "2       2.0  2019-01-01 00:27:11  ...       1.0                  NaN\n",
              "3       2.0  2019-01-01 00:46:20  ...       1.0                  NaN\n",
              "4       2.0  2019-01-01 00:19:06  ...       1.0                  NaN\n",
              "\n",
              "[5 rows x 20 columns]"
            ]
          },
          "metadata": {},
          "execution_count": 38
        }
      ]
    },
    {
      "cell_type": "code",
      "metadata": {
        "id": "BqKQMvu6gr3o",
        "colab": {
          "base_uri": "https://localhost:8080/",
          "height": 338
        },
        "outputId": "0158434e-4d60-4966-cecd-2bf449bee81d"
      },
      "source": [
        "df_green_2019.describe()"
      ],
      "id": "BqKQMvu6gr3o",
      "execution_count": 39,
      "outputs": [
        {
          "output_type": "execute_result",
          "data": {
            "text/html": [
              "<div>\n",
              "<style scoped>\n",
              "    .dataframe tbody tr th:only-of-type {\n",
              "        vertical-align: middle;\n",
              "    }\n",
              "\n",
              "    .dataframe tbody tr th {\n",
              "        vertical-align: top;\n",
              "    }\n",
              "\n",
              "    .dataframe thead th {\n",
              "        text-align: right;\n",
              "    }\n",
              "</style>\n",
              "<table border=\"1\" class=\"dataframe\">\n",
              "  <thead>\n",
              "    <tr style=\"text-align: right;\">\n",
              "      <th></th>\n",
              "      <th>VendorID</th>\n",
              "      <th>RatecodeID</th>\n",
              "      <th>PULocationID</th>\n",
              "      <th>DOLocationID</th>\n",
              "      <th>passenger_count</th>\n",
              "      <th>trip_distance</th>\n",
              "      <th>fare_amount</th>\n",
              "      <th>extra</th>\n",
              "      <th>mta_tax</th>\n",
              "      <th>tip_amount</th>\n",
              "      <th>tolls_amount</th>\n",
              "      <th>ehail_fee</th>\n",
              "      <th>improvement_surcharge</th>\n",
              "      <th>total_amount</th>\n",
              "      <th>payment_type</th>\n",
              "      <th>trip_type</th>\n",
              "      <th>congestion_surcharge</th>\n",
              "    </tr>\n",
              "  </thead>\n",
              "  <tbody>\n",
              "    <tr>\n",
              "      <th>count</th>\n",
              "      <td>5.629943e+06</td>\n",
              "      <td>5.629943e+06</td>\n",
              "      <td>6.044050e+06</td>\n",
              "      <td>6.044050e+06</td>\n",
              "      <td>5.629943e+06</td>\n",
              "      <td>6.044050e+06</td>\n",
              "      <td>6.044050e+06</td>\n",
              "      <td>6.044050e+06</td>\n",
              "      <td>6.044050e+06</td>\n",
              "      <td>6.044050e+06</td>\n",
              "      <td>6.044050e+06</td>\n",
              "      <td>354.000000</td>\n",
              "      <td>6.044048e+06</td>\n",
              "      <td>6.044050e+06</td>\n",
              "      <td>5.629943e+06</td>\n",
              "      <td>5.629584e+06</td>\n",
              "      <td>5.083561e+06</td>\n",
              "    </tr>\n",
              "    <tr>\n",
              "      <th>mean</th>\n",
              "      <td>1.841199e+00</td>\n",
              "      <td>1.186886e+00</td>\n",
              "      <td>1.084717e+02</td>\n",
              "      <td>1.292570e+02</td>\n",
              "      <td>1.310093e+00</td>\n",
              "      <td>3.303150e+00</td>\n",
              "      <td>1.442893e+01</td>\n",
              "      <td>5.376410e-01</td>\n",
              "      <td>4.825997e-01</td>\n",
              "      <td>9.843494e-01</td>\n",
              "      <td>2.530078e-01</td>\n",
              "      <td>0.016525</td>\n",
              "      <td>2.690442e-01</td>\n",
              "      <td>1.726119e+01</td>\n",
              "      <td>1.439895e+00</td>\n",
              "      <td>1.044463e+00</td>\n",
              "      <td>3.986029e-01</td>\n",
              "    </tr>\n",
              "    <tr>\n",
              "      <th>std</th>\n",
              "      <td>3.654905e-01</td>\n",
              "      <td>8.865917e-01</td>\n",
              "      <td>7.173679e+01</td>\n",
              "      <td>7.650462e+01</td>\n",
              "      <td>9.708296e-01</td>\n",
              "      <td>3.435201e+01</td>\n",
              "      <td>1.316129e+01</td>\n",
              "      <td>8.476131e-01</td>\n",
              "      <td>1.000936e-01</td>\n",
              "      <td>2.017130e+00</td>\n",
              "      <td>1.365045e+00</td>\n",
              "      <td>0.179003</td>\n",
              "      <td>9.412292e-02</td>\n",
              "      <td>1.447000e+01</td>\n",
              "      <td>5.202254e-01</td>\n",
              "      <td>2.061218e-01</td>\n",
              "      <td>9.679345e-01</td>\n",
              "    </tr>\n",
              "    <tr>\n",
              "      <th>min</th>\n",
              "      <td>1.000000e+00</td>\n",
              "      <td>1.000000e+00</td>\n",
              "      <td>1.000000e+00</td>\n",
              "      <td>1.000000e+00</td>\n",
              "      <td>0.000000e+00</td>\n",
              "      <td>-2.032908e+04</td>\n",
              "      <td>-8.900000e+02</td>\n",
              "      <td>-4.500000e+00</td>\n",
              "      <td>-5.000000e-01</td>\n",
              "      <td>-9.050000e+01</td>\n",
              "      <td>-2.100000e+01</td>\n",
              "      <td>0.000000</td>\n",
              "      <td>-3.000000e-01</td>\n",
              "      <td>-8.903000e+02</td>\n",
              "      <td>1.000000e+00</td>\n",
              "      <td>1.000000e+00</td>\n",
              "      <td>-2.750000e+00</td>\n",
              "    </tr>\n",
              "    <tr>\n",
              "      <th>25%</th>\n",
              "      <td>2.000000e+00</td>\n",
              "      <td>1.000000e+00</td>\n",
              "      <td>5.200000e+01</td>\n",
              "      <td>6.500000e+01</td>\n",
              "      <td>1.000000e+00</td>\n",
              "      <td>1.060000e+00</td>\n",
              "      <td>6.500000e+00</td>\n",
              "      <td>0.000000e+00</td>\n",
              "      <td>5.000000e-01</td>\n",
              "      <td>0.000000e+00</td>\n",
              "      <td>0.000000e+00</td>\n",
              "      <td>0.000000</td>\n",
              "      <td>3.000000e-01</td>\n",
              "      <td>8.750000e+00</td>\n",
              "      <td>1.000000e+00</td>\n",
              "      <td>1.000000e+00</td>\n",
              "      <td>0.000000e+00</td>\n",
              "    </tr>\n",
              "    <tr>\n",
              "      <th>50%</th>\n",
              "      <td>2.000000e+00</td>\n",
              "      <td>1.000000e+00</td>\n",
              "      <td>8.200000e+01</td>\n",
              "      <td>1.290000e+02</td>\n",
              "      <td>1.000000e+00</td>\n",
              "      <td>1.950000e+00</td>\n",
              "      <td>1.050000e+01</td>\n",
              "      <td>0.000000e+00</td>\n",
              "      <td>5.000000e-01</td>\n",
              "      <td>0.000000e+00</td>\n",
              "      <td>0.000000e+00</td>\n",
              "      <td>0.000000</td>\n",
              "      <td>3.000000e-01</td>\n",
              "      <td>1.280000e+01</td>\n",
              "      <td>1.000000e+00</td>\n",
              "      <td>1.000000e+00</td>\n",
              "      <td>0.000000e+00</td>\n",
              "    </tr>\n",
              "    <tr>\n",
              "      <th>75%</th>\n",
              "      <td>2.000000e+00</td>\n",
              "      <td>1.000000e+00</td>\n",
              "      <td>1.660000e+02</td>\n",
              "      <td>1.930000e+02</td>\n",
              "      <td>1.000000e+00</td>\n",
              "      <td>3.920000e+00</td>\n",
              "      <td>1.800000e+01</td>\n",
              "      <td>1.000000e+00</td>\n",
              "      <td>5.000000e-01</td>\n",
              "      <td>1.650000e+00</td>\n",
              "      <td>0.000000e+00</td>\n",
              "      <td>0.000000</td>\n",
              "      <td>3.000000e-01</td>\n",
              "      <td>2.130000e+01</td>\n",
              "      <td>2.000000e+00</td>\n",
              "      <td>1.000000e+00</td>\n",
              "      <td>0.000000e+00</td>\n",
              "    </tr>\n",
              "    <tr>\n",
              "      <th>max</th>\n",
              "      <td>2.000000e+00</td>\n",
              "      <td>9.900000e+01</td>\n",
              "      <td>2.650000e+02</td>\n",
              "      <td>2.650000e+02</td>\n",
              "      <td>9.000000e+00</td>\n",
              "      <td>7.784376e+04</td>\n",
              "      <td>4.011500e+03</td>\n",
              "      <td>1.158000e+01</td>\n",
              "      <td>1.733000e+01</td>\n",
              "      <td>4.410000e+02</td>\n",
              "      <td>9.355000e+02</td>\n",
              "      <td>1.950000</td>\n",
              "      <td>4.700000e-01</td>\n",
              "      <td>4.012300e+03</td>\n",
              "      <td>5.000000e+00</td>\n",
              "      <td>2.000000e+00</td>\n",
              "      <td>2.750000e+00</td>\n",
              "    </tr>\n",
              "  </tbody>\n",
              "</table>\n",
              "</div>"
            ],
            "text/plain": [
              "           VendorID    RatecodeID  ...     trip_type  congestion_surcharge\n",
              "count  5.629943e+06  5.629943e+06  ...  5.629584e+06          5.083561e+06\n",
              "mean   1.841199e+00  1.186886e+00  ...  1.044463e+00          3.986029e-01\n",
              "std    3.654905e-01  8.865917e-01  ...  2.061218e-01          9.679345e-01\n",
              "min    1.000000e+00  1.000000e+00  ...  1.000000e+00         -2.750000e+00\n",
              "25%    2.000000e+00  1.000000e+00  ...  1.000000e+00          0.000000e+00\n",
              "50%    2.000000e+00  1.000000e+00  ...  1.000000e+00          0.000000e+00\n",
              "75%    2.000000e+00  1.000000e+00  ...  1.000000e+00          0.000000e+00\n",
              "max    2.000000e+00  9.900000e+01  ...  2.000000e+00          2.750000e+00\n",
              "\n",
              "[8 rows x 17 columns]"
            ]
          },
          "metadata": {},
          "execution_count": 39
        }
      ]
    },
    {
      "cell_type": "code",
      "metadata": {
        "id": "ry7CjhlFhKt6",
        "colab": {
          "base_uri": "https://localhost:8080/"
        },
        "outputId": "337f49fa-1fe6-41c9-86e8-a254ea98a669"
      },
      "source": [
        "df_green_2019.isnull().sum()\n"
      ],
      "id": "ry7CjhlFhKt6",
      "execution_count": 40,
      "outputs": [
        {
          "output_type": "execute_result",
          "data": {
            "text/plain": [
              "VendorID                  414107\n",
              "lpep_pickup_datetime           0\n",
              "lpep_dropoff_datetime          0\n",
              "store_and_fwd_flag        414107\n",
              "RatecodeID                414107\n",
              "PULocationID                   0\n",
              "DOLocationID                   0\n",
              "passenger_count           414107\n",
              "trip_distance                  0\n",
              "fare_amount                    0\n",
              "extra                          0\n",
              "mta_tax                        0\n",
              "tip_amount                     0\n",
              "tolls_amount                   0\n",
              "ehail_fee                6043696\n",
              "improvement_surcharge          2\n",
              "total_amount                   0\n",
              "payment_type              414107\n",
              "trip_type                 414466\n",
              "congestion_surcharge      960489\n",
              "dtype: int64"
            ]
          },
          "metadata": {},
          "execution_count": 40
        }
      ]
    },
    {
      "cell_type": "code",
      "metadata": {
        "id": "Auz2dfmRmPV0"
      },
      "source": [
        "df_green_2019.dropna(subset = [\"trip_type\"],inplace= True)\n"
      ],
      "id": "Auz2dfmRmPV0",
      "execution_count": 41,
      "outputs": []
    },
    {
      "cell_type": "code",
      "metadata": {
        "id": "KwJG18PIucsM",
        "colab": {
          "base_uri": "https://localhost:8080/"
        },
        "outputId": "1ce6c41f-1399-4392-e574-6ca09efb6449"
      },
      "source": [
        "#All nul values cleared\n",
        "df_green_2019.isnull().sum()"
      ],
      "id": "KwJG18PIucsM",
      "execution_count": 42,
      "outputs": [
        {
          "output_type": "execute_result",
          "data": {
            "text/plain": [
              "VendorID                       0\n",
              "lpep_pickup_datetime           0\n",
              "lpep_dropoff_datetime          0\n",
              "store_and_fwd_flag             0\n",
              "RatecodeID                     0\n",
              "PULocationID                   0\n",
              "DOLocationID                   0\n",
              "passenger_count                0\n",
              "trip_distance                  0\n",
              "fare_amount                    0\n",
              "extra                          0\n",
              "mta_tax                        0\n",
              "tip_amount                     0\n",
              "tolls_amount                   0\n",
              "ehail_fee                5629584\n",
              "improvement_surcharge          0\n",
              "total_amount                   0\n",
              "payment_type                   0\n",
              "trip_type                      0\n",
              "congestion_surcharge      546380\n",
              "dtype: int64"
            ]
          },
          "metadata": {},
          "execution_count": 42
        }
      ]
    },
    {
      "cell_type": "code",
      "metadata": {
        "id": "ukg-x-4zvIht"
      },
      "source": [
        "#Remove 0 passenger count .\n",
        "#the taxi fare initial charge is ($2.5) ,so we are removing fare amount smaller than this amount"
      ],
      "id": "ukg-x-4zvIht",
      "execution_count": 43,
      "outputs": []
    },
    {
      "cell_type": "code",
      "metadata": {
        "id": "3tb3WQC1vjt2"
      },
      "source": [
        "#removing outlinear values.\n",
        "df_green_2019 = df_green_2019[(df_green_2019['passenger_count'] > 0)]\n",
        "                              "
      ],
      "id": "3tb3WQC1vjt2",
      "execution_count": 45,
      "outputs": []
    },
    {
      "cell_type": "code",
      "metadata": {
        "id": "7SOyhZ9kwCg-"
      },
      "source": [
        "df_green_2019 = df_green_2019[(df_green_2019['fare_amount'] >= 2.5)]"
      ],
      "id": "7SOyhZ9kwCg-",
      "execution_count": 46,
      "outputs": []
    },
    {
      "cell_type": "code",
      "metadata": {
        "id": "5-6w9ycIwbxE"
      },
      "source": [
        "df_green_2019 = df_green_2019[(df_green_2019['trip_distance'] > 0)]"
      ],
      "id": "5-6w9ycIwbxE",
      "execution_count": 47,
      "outputs": []
    },
    {
      "cell_type": "code",
      "metadata": {
        "id": "ag4YRmJzweLE"
      },
      "source": [
        "df_green_2019 = df_green_2019[(df_green_2019['extra'] > 0)]"
      ],
      "id": "ag4YRmJzweLE",
      "execution_count": 48,
      "outputs": []
    },
    {
      "cell_type": "code",
      "metadata": {
        "id": "AFKYk_BCfvor"
      },
      "source": [
        "df_green_2019 = df_green_2019[(df_green_2019['mta_tax'] > 0)]"
      ],
      "id": "AFKYk_BCfvor",
      "execution_count": 49,
      "outputs": []
    },
    {
      "cell_type": "code",
      "metadata": {
        "id": "Vgjmn512f1sF"
      },
      "source": [
        "df_green_2019= df_green_2019[(df_green_2019['tolls_amount'] > 0)]"
      ],
      "id": "Vgjmn512f1sF",
      "execution_count": 50,
      "outputs": []
    },
    {
      "cell_type": "code",
      "metadata": {
        "id": "xspRqdO5gE3F"
      },
      "source": [
        "df_green_2019 = df_green_2019[(df_green_2019['improvement_surcharge'] > 0)]"
      ],
      "id": "xspRqdO5gE3F",
      "execution_count": 51,
      "outputs": []
    },
    {
      "cell_type": "code",
      "metadata": {
        "id": "IxQ_A6NZgL1V"
      },
      "source": [
        "df_green_2019 = df_green_2019[(df_green_2019['total_amount'] >= 2.5)]"
      ],
      "id": "IxQ_A6NZgL1V",
      "execution_count": 52,
      "outputs": []
    },
    {
      "cell_type": "code",
      "metadata": {
        "colab": {
          "base_uri": "https://localhost:8080/",
          "height": 320
        },
        "id": "bDiGXZ7zgXlD",
        "outputId": "6fad1598-6c4e-48ed-e4b7-dfa2259281b0"
      },
      "source": [
        "df_green_2019.describe()"
      ],
      "id": "bDiGXZ7zgXlD",
      "execution_count": 53,
      "outputs": [
        {
          "output_type": "execute_result",
          "data": {
            "text/html": [
              "<div>\n",
              "<style scoped>\n",
              "    .dataframe tbody tr th:only-of-type {\n",
              "        vertical-align: middle;\n",
              "    }\n",
              "\n",
              "    .dataframe tbody tr th {\n",
              "        vertical-align: top;\n",
              "    }\n",
              "\n",
              "    .dataframe thead th {\n",
              "        text-align: right;\n",
              "    }\n",
              "</style>\n",
              "<table border=\"1\" class=\"dataframe\">\n",
              "  <thead>\n",
              "    <tr style=\"text-align: right;\">\n",
              "      <th></th>\n",
              "      <th>VendorID</th>\n",
              "      <th>RatecodeID</th>\n",
              "      <th>PULocationID</th>\n",
              "      <th>DOLocationID</th>\n",
              "      <th>passenger_count</th>\n",
              "      <th>trip_distance</th>\n",
              "      <th>fare_amount</th>\n",
              "      <th>extra</th>\n",
              "      <th>mta_tax</th>\n",
              "      <th>tip_amount</th>\n",
              "      <th>tolls_amount</th>\n",
              "      <th>improvement_surcharge</th>\n",
              "      <th>total_amount</th>\n",
              "      <th>payment_type</th>\n",
              "      <th>trip_type</th>\n",
              "    </tr>\n",
              "  </thead>\n",
              "  <tbody>\n",
              "    <tr>\n",
              "      <th>count</th>\n",
              "      <td>84178.000000</td>\n",
              "      <td>84178.000000</td>\n",
              "      <td>84178.000000</td>\n",
              "      <td>84178.000000</td>\n",
              "      <td>84178.000000</td>\n",
              "      <td>84178.000000</td>\n",
              "      <td>84178.000000</td>\n",
              "      <td>84178.000000</td>\n",
              "      <td>84178.0</td>\n",
              "      <td>84178.000000</td>\n",
              "      <td>84178.000000</td>\n",
              "      <td>8.417800e+04</td>\n",
              "      <td>84178.000000</td>\n",
              "      <td>84178.000000</td>\n",
              "      <td>84178.0</td>\n",
              "    </tr>\n",
              "    <tr>\n",
              "      <th>mean</th>\n",
              "      <td>1.880765</td>\n",
              "      <td>1.045012</td>\n",
              "      <td>125.986018</td>\n",
              "      <td>142.824040</td>\n",
              "      <td>1.389722</td>\n",
              "      <td>12.601528</td>\n",
              "      <td>39.767855</td>\n",
              "      <td>0.816448</td>\n",
              "      <td>0.5</td>\n",
              "      <td>2.595186</td>\n",
              "      <td>5.752218</td>\n",
              "      <td>3.000000e-01</td>\n",
              "      <td>49.778964</td>\n",
              "      <td>1.203355</td>\n",
              "      <td>1.0</td>\n",
              "    </tr>\n",
              "    <tr>\n",
              "      <th>std</th>\n",
              "      <td>0.324067</td>\n",
              "      <td>0.292958</td>\n",
              "      <td>74.731416</td>\n",
              "      <td>73.365835</td>\n",
              "      <td>1.049941</td>\n",
              "      <td>6.506109</td>\n",
              "      <td>19.460547</td>\n",
              "      <td>0.623342</td>\n",
              "      <td>0.0</td>\n",
              "      <td>4.286718</td>\n",
              "      <td>2.025426</td>\n",
              "      <td>4.499206e-13</td>\n",
              "      <td>20.372392</td>\n",
              "      <td>0.410244</td>\n",
              "      <td>0.0</td>\n",
              "    </tr>\n",
              "    <tr>\n",
              "      <th>min</th>\n",
              "      <td>1.000000</td>\n",
              "      <td>1.000000</td>\n",
              "      <td>3.000000</td>\n",
              "      <td>1.000000</td>\n",
              "      <td>1.000000</td>\n",
              "      <td>0.010000</td>\n",
              "      <td>2.500000</td>\n",
              "      <td>0.500000</td>\n",
              "      <td>0.5</td>\n",
              "      <td>0.000000</td>\n",
              "      <td>0.010000</td>\n",
              "      <td>3.000000e-01</td>\n",
              "      <td>5.300000</td>\n",
              "      <td>1.000000</td>\n",
              "      <td>1.0</td>\n",
              "    </tr>\n",
              "    <tr>\n",
              "      <th>25%</th>\n",
              "      <td>2.000000</td>\n",
              "      <td>1.000000</td>\n",
              "      <td>74.000000</td>\n",
              "      <td>79.000000</td>\n",
              "      <td>1.000000</td>\n",
              "      <td>7.420000</td>\n",
              "      <td>24.500000</td>\n",
              "      <td>0.500000</td>\n",
              "      <td>0.5</td>\n",
              "      <td>0.000000</td>\n",
              "      <td>5.760000</td>\n",
              "      <td>3.000000e-01</td>\n",
              "      <td>34.560000</td>\n",
              "      <td>1.000000</td>\n",
              "      <td>1.0</td>\n",
              "    </tr>\n",
              "    <tr>\n",
              "      <th>50%</th>\n",
              "      <td>2.000000</td>\n",
              "      <td>1.000000</td>\n",
              "      <td>106.000000</td>\n",
              "      <td>138.000000</td>\n",
              "      <td>1.000000</td>\n",
              "      <td>11.810000</td>\n",
              "      <td>37.000000</td>\n",
              "      <td>0.500000</td>\n",
              "      <td>0.5</td>\n",
              "      <td>0.000000</td>\n",
              "      <td>5.760000</td>\n",
              "      <td>3.000000e-01</td>\n",
              "      <td>47.560000</td>\n",
              "      <td>1.000000</td>\n",
              "      <td>1.0</td>\n",
              "    </tr>\n",
              "    <tr>\n",
              "      <th>75%</th>\n",
              "      <td>2.000000</td>\n",
              "      <td>1.000000</td>\n",
              "      <td>191.000000</td>\n",
              "      <td>208.000000</td>\n",
              "      <td>1.000000</td>\n",
              "      <td>16.900000</td>\n",
              "      <td>52.000000</td>\n",
              "      <td>1.000000</td>\n",
              "      <td>0.5</td>\n",
              "      <td>5.000000</td>\n",
              "      <td>5.760000</td>\n",
              "      <td>3.000000e-01</td>\n",
              "      <td>62.060000</td>\n",
              "      <td>1.000000</td>\n",
              "      <td>1.0</td>\n",
              "    </tr>\n",
              "    <tr>\n",
              "      <th>max</th>\n",
              "      <td>2.000000</td>\n",
              "      <td>4.000000</td>\n",
              "      <td>265.000000</td>\n",
              "      <td>265.000000</td>\n",
              "      <td>6.000000</td>\n",
              "      <td>137.890000</td>\n",
              "      <td>622.000000</td>\n",
              "      <td>4.500000</td>\n",
              "      <td>0.5</td>\n",
              "      <td>170.000000</td>\n",
              "      <td>150.000000</td>\n",
              "      <td>3.000000e-01</td>\n",
              "      <td>645.320000</td>\n",
              "      <td>5.000000</td>\n",
              "      <td>1.0</td>\n",
              "    </tr>\n",
              "  </tbody>\n",
              "</table>\n",
              "</div>"
            ],
            "text/plain": [
              "           VendorID    RatecodeID  ...  payment_type  trip_type\n",
              "count  84178.000000  84178.000000  ...  84178.000000    84178.0\n",
              "mean       1.880765      1.045012  ...      1.203355        1.0\n",
              "std        0.324067      0.292958  ...      0.410244        0.0\n",
              "min        1.000000      1.000000  ...      1.000000        1.0\n",
              "25%        2.000000      1.000000  ...      1.000000        1.0\n",
              "50%        2.000000      1.000000  ...      1.000000        1.0\n",
              "75%        2.000000      1.000000  ...      1.000000        1.0\n",
              "max        2.000000      4.000000  ...      5.000000        1.0\n",
              "\n",
              "[8 rows x 15 columns]"
            ]
          },
          "metadata": {},
          "execution_count": 53
        }
      ]
    },
    {
      "cell_type": "code",
      "metadata": {
        "colab": {
          "base_uri": "https://localhost:8080/",
          "height": 364
        },
        "id": "dpJ8QGJFgeJ2",
        "outputId": "385c6d7f-5d04-44e9-8931-1e0f41009bc6"
      },
      "source": [
        "#target value = target amount \n",
        "plt.figure(figsize = (12,5))\n",
        "n,bins,patches = plt.hist(df_green_2019.fare_amount, 1000,alpha=0.75)\n",
        "plt.xlabel('Fare amount',fontsize=15,fontweight='bold')\n",
        "plt.title('Histogram of Fare amount',fontsize=25,fontweight='bold')\n",
        "plt.xlim(0,300)\n",
        "plt.show();\n"
      ],
      "id": "dpJ8QGJFgeJ2",
      "execution_count": 54,
      "outputs": [
        {
          "output_type": "display_data",
          "data": {
            "image/png": "[encoded data removed]",
            "text/plain": [
              "<Figure size 864x360 with 1 Axes>"
            ]
          },
          "metadata": {
            "needs_background": "light"
          }
        }
      ]
    },
    {
      "cell_type": "code",
      "metadata": {
        "id": "WD1hkGNxh0SS",
        "colab": {
          "base_uri": "https://localhost:8080/",
          "height": 431
        },
        "outputId": "3590d64c-d9d4-453d-b56a-1c41892a91fb"
      },
      "source": [
        "plt.figure(figsize = (10,6))\n",
        "df_green_2019['passenger_count'].value_counts().plot.bar(color = 'y' , edgecolor = 'k')\n",
        "plt.xlabel('Fare amount',fontsize=15,fontweight='bold')\n",
        "plt.ylabel('count',fontsize=15,fontweight='bold')\n",
        "plt.title('Histogram of Fare amount',fontsize=25,fontweight='bold')\n",
        "## passenger count"
      ],
      "id": "WD1hkGNxh0SS",
      "execution_count": 55,
      "outputs": [
        {
          "output_type": "execute_result",
          "data": {
            "text/plain": [
              "Text(0.5, 1.0, 'Histogram of Fare amount')"
            ]
          },
          "metadata": {},
          "execution_count": 55
        },
        {
          "output_type": "display_data",
          "data": {
            "image/png": "[encoded data removed]",
            "text/plain": [
              "<Figure size 720x432 with 1 Axes>"
            ]
          },
          "metadata": {
            "needs_background": "light"
          }
        }
      ]
    },
    {
      "cell_type": "code",
      "metadata": {
        "id": "HVVRNynzsuBW"
      },
      "source": [
        ""
      ],
      "id": "HVVRNynzsuBW",
      "execution_count": null,
      "outputs": []
    }
  ]
}