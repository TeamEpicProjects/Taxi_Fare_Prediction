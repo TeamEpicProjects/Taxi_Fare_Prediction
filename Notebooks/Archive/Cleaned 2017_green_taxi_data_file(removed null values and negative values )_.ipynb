{
  "nbformat": 4,
  "nbformat_minor": 5,
  "metadata": {
    "kernelspec": {
      "display_name": "Python 3",
      "language": "python",
      "name": "python3"
    },
    "language_info": {
      "codemirror_mode": {
        "name": "ipython",
        "version": 3
      },
      "file_extension": ".py",
      "mimetype": "text/x-python",
      "name": "python",
      "nbconvert_exporter": "python",
      "pygments_lexer": "ipython3",
      "version": "3.8.8"
    },
    "colab": {
      "name": "Removed nul values of 2017 green taxi data file .ipynb",
      "provenance": [],
      "collapsed_sections": []
    }
  },
  "cells": [
    {
      "cell_type": "code",
      "metadata": {
        "id": "670a41ba"
      },
      "source": [
        "import pandas as pd\n",
        "import numpy as np\n",
        "import seaborn as sns\n",
        "import matplotlib.pyplot as plt"
      ],
      "id": "670a41ba",
      "execution_count": 1,
      "outputs": []
    },
    {
      "cell_type": "code",
      "metadata": {
        "colab": {
          "base_uri": "https://localhost:8080/"
        },
        "id": "KMq-2mizFsml",
        "outputId": "729a4cf2-44fe-4575-ee1b-44015a8005ab"
      },
      "source": [
        "from google.colab import drive\n",
        "drive.mount('/content/drive')"
      ],
      "id": "KMq-2mizFsml",
      "execution_count": 2,
      "outputs": [
        {
          "output_type": "stream",
          "name": "stdout",
          "text": [
            "Mounted at /content/drive\n"
          ]
        }
      ]
    },
    {
      "cell_type": "markdown",
      "metadata": {
        "id": "zEDghg4YCXVW"
      },
      "source": [
        "# New Section"
      ],
      "id": "zEDghg4YCXVW"
    },
    {
      "cell_type": "markdown",
      "metadata": {
        "id": "ppFp90VfCX7K"
      },
      "source": [
        "# New Section"
      ],
      "id": "ppFp90VfCX7K"
    },
    {
      "cell_type": "code",
      "metadata": {
        "id": "52d84c72"
      },
      "source": [
        "import warnings\n",
        "warnings.filterwarnings(\"ignore\")"
      ],
      "id": "52d84c72",
      "execution_count": 3,
      "outputs": []
    },
    {
      "cell_type": "code",
      "metadata": {
        "id": "c614b0ed"
      },
      "source": [
        "df_green_2017 =pd.read_csv('/content/drive/MyDrive/NYC/2017/combined/2017_green_combined.csv')\n",
        "\n"
      ],
      "id": "c614b0ed",
      "execution_count": 4,
      "outputs": []
    },
    {
      "cell_type": "code",
      "metadata": {
        "colab": {
          "base_uri": "https://localhost:8080/",
          "height": 226
        },
        "id": "a5MCyY8W1Frf",
        "outputId": "16d6fa38-ab86-499d-eb1b-72720b506757"
      },
      "source": [
        "df_green_2017.head(5)\n"
      ],
      "id": "a5MCyY8W1Frf",
      "execution_count": 5,
      "outputs": [
        {
          "output_type": "execute_result",
          "data": {
            "text/html": [
              "<div>\n",
              "<style scoped>\n",
              "    .dataframe tbody tr th:only-of-type {\n",
              "        vertical-align: middle;\n",
              "    }\n",
              "\n",
              "    .dataframe tbody tr th {\n",
              "        vertical-align: top;\n",
              "    }\n",
              "\n",
              "    .dataframe thead th {\n",
              "        text-align: right;\n",
              "    }\n",
              "</style>\n",
              "<table border=\"1\" class=\"dataframe\">\n",
              "  <thead>\n",
              "    <tr style=\"text-align: right;\">\n",
              "      <th></th>\n",
              "      <th>VendorID</th>\n",
              "      <th>lpep_pickup_datetime</th>\n",
              "      <th>lpep_dropoff_datetime</th>\n",
              "      <th>store_and_fwd_flag</th>\n",
              "      <th>RatecodeID</th>\n",
              "      <th>PULocationID</th>\n",
              "      <th>DOLocationID</th>\n",
              "      <th>passenger_count</th>\n",
              "      <th>trip_distance</th>\n",
              "      <th>fare_amount</th>\n",
              "      <th>extra</th>\n",
              "      <th>mta_tax</th>\n",
              "      <th>tip_amount</th>\n",
              "      <th>tolls_amount</th>\n",
              "      <th>ehail_fee</th>\n",
              "      <th>improvement_surcharge</th>\n",
              "      <th>total_amount</th>\n",
              "      <th>payment_type</th>\n",
              "      <th>trip_type</th>\n",
              "    </tr>\n",
              "  </thead>\n",
              "  <tbody>\n",
              "    <tr>\n",
              "      <th>0</th>\n",
              "      <td>2</td>\n",
              "      <td>2017-01-01 00:01:15</td>\n",
              "      <td>2017-01-01 00:11:05</td>\n",
              "      <td>N</td>\n",
              "      <td>1</td>\n",
              "      <td>42</td>\n",
              "      <td>166</td>\n",
              "      <td>1</td>\n",
              "      <td>1.71</td>\n",
              "      <td>9.0</td>\n",
              "      <td>0.0</td>\n",
              "      <td>0.5</td>\n",
              "      <td>0.00</td>\n",
              "      <td>0.0</td>\n",
              "      <td>NaN</td>\n",
              "      <td>0.3</td>\n",
              "      <td>9.80</td>\n",
              "      <td>2</td>\n",
              "      <td>1.0</td>\n",
              "    </tr>\n",
              "    <tr>\n",
              "      <th>1</th>\n",
              "      <td>2</td>\n",
              "      <td>2017-01-01 00:03:34</td>\n",
              "      <td>2017-01-01 00:09:00</td>\n",
              "      <td>N</td>\n",
              "      <td>1</td>\n",
              "      <td>75</td>\n",
              "      <td>74</td>\n",
              "      <td>1</td>\n",
              "      <td>1.44</td>\n",
              "      <td>6.5</td>\n",
              "      <td>0.5</td>\n",
              "      <td>0.5</td>\n",
              "      <td>0.00</td>\n",
              "      <td>0.0</td>\n",
              "      <td>NaN</td>\n",
              "      <td>0.3</td>\n",
              "      <td>7.80</td>\n",
              "      <td>2</td>\n",
              "      <td>1.0</td>\n",
              "    </tr>\n",
              "    <tr>\n",
              "      <th>2</th>\n",
              "      <td>2</td>\n",
              "      <td>2017-01-01 00:04:02</td>\n",
              "      <td>2017-01-01 00:12:55</td>\n",
              "      <td>N</td>\n",
              "      <td>1</td>\n",
              "      <td>82</td>\n",
              "      <td>70</td>\n",
              "      <td>5</td>\n",
              "      <td>3.45</td>\n",
              "      <td>12.0</td>\n",
              "      <td>0.5</td>\n",
              "      <td>0.5</td>\n",
              "      <td>2.66</td>\n",
              "      <td>0.0</td>\n",
              "      <td>NaN</td>\n",
              "      <td>0.3</td>\n",
              "      <td>15.96</td>\n",
              "      <td>1</td>\n",
              "      <td>1.0</td>\n",
              "    </tr>\n",
              "    <tr>\n",
              "      <th>3</th>\n",
              "      <td>2</td>\n",
              "      <td>2017-01-01 00:01:40</td>\n",
              "      <td>2017-01-01 00:14:23</td>\n",
              "      <td>N</td>\n",
              "      <td>1</td>\n",
              "      <td>255</td>\n",
              "      <td>232</td>\n",
              "      <td>1</td>\n",
              "      <td>2.11</td>\n",
              "      <td>10.5</td>\n",
              "      <td>0.5</td>\n",
              "      <td>0.5</td>\n",
              "      <td>0.00</td>\n",
              "      <td>0.0</td>\n",
              "      <td>NaN</td>\n",
              "      <td>0.3</td>\n",
              "      <td>11.80</td>\n",
              "      <td>2</td>\n",
              "      <td>1.0</td>\n",
              "    </tr>\n",
              "    <tr>\n",
              "      <th>4</th>\n",
              "      <td>2</td>\n",
              "      <td>2017-01-01 00:00:51</td>\n",
              "      <td>2017-01-01 00:18:55</td>\n",
              "      <td>N</td>\n",
              "      <td>1</td>\n",
              "      <td>166</td>\n",
              "      <td>239</td>\n",
              "      <td>1</td>\n",
              "      <td>2.76</td>\n",
              "      <td>11.5</td>\n",
              "      <td>0.5</td>\n",
              "      <td>0.5</td>\n",
              "      <td>0.00</td>\n",
              "      <td>0.0</td>\n",
              "      <td>NaN</td>\n",
              "      <td>0.3</td>\n",
              "      <td>12.80</td>\n",
              "      <td>2</td>\n",
              "      <td>1.0</td>\n",
              "    </tr>\n",
              "  </tbody>\n",
              "</table>\n",
              "</div>"
            ],
            "text/plain": [
              "   VendorID lpep_pickup_datetime  ... payment_type trip_type\n",
              "0         2  2017-01-01 00:01:15  ...            2       1.0\n",
              "1         2  2017-01-01 00:03:34  ...            2       1.0\n",
              "2         2  2017-01-01 00:04:02  ...            1       1.0\n",
              "3         2  2017-01-01 00:01:40  ...            2       1.0\n",
              "4         2  2017-01-01 00:00:51  ...            2       1.0\n",
              "\n",
              "[5 rows x 19 columns]"
            ]
          },
          "metadata": {},
          "execution_count": 5
        }
      ]
    },
    {
      "cell_type": "code",
      "metadata": {
        "colab": {
          "base_uri": "https://localhost:8080/"
        },
        "id": "zvTuCxlz1Fon",
        "outputId": "36bd8fe5-4c14-48d2-c50c-8227088d3d07"
      },
      "source": [
        "df_green_2017.info()\n"
      ],
      "id": "zvTuCxlz1Fon",
      "execution_count": 6,
      "outputs": [
        {
          "output_type": "stream",
          "name": "stdout",
          "text": [
            "<class 'pandas.core.frame.DataFrame'>\n",
            "RangeIndex: 11740667 entries, 0 to 11740666\n",
            "Data columns (total 19 columns):\n",
            " #   Column                 Dtype  \n",
            "---  ------                 -----  \n",
            " 0   VendorID               int64  \n",
            " 1   lpep_pickup_datetime   object \n",
            " 2   lpep_dropoff_datetime  object \n",
            " 3   store_and_fwd_flag     object \n",
            " 4   RatecodeID             int64  \n",
            " 5   PULocationID           int64  \n",
            " 6   DOLocationID           int64  \n",
            " 7   passenger_count        int64  \n",
            " 8   trip_distance          float64\n",
            " 9   fare_amount            float64\n",
            " 10  extra                  float64\n",
            " 11  mta_tax                float64\n",
            " 12  tip_amount             float64\n",
            " 13  tolls_amount           float64\n",
            " 14  ehail_fee              float64\n",
            " 15  improvement_surcharge  float64\n",
            " 16  total_amount           float64\n",
            " 17  payment_type           int64  \n",
            " 18  trip_type              float64\n",
            "dtypes: float64(10), int64(6), object(3)\n",
            "memory usage: 1.7+ GB\n"
          ]
        }
      ]
    },
    {
      "cell_type": "code",
      "metadata": {
        "id": "-kf0wb4NFAda",
        "colab": {
          "base_uri": "https://localhost:8080/"
        },
        "outputId": "38de7f7b-0d25-40fb-8733-b26e3402796a"
      },
      "source": [
        "print(\"Shape of dataset = \",df_green_2017.shape)\n"
      ],
      "id": "-kf0wb4NFAda",
      "execution_count": 7,
      "outputs": [
        {
          "output_type": "stream",
          "name": "stdout",
          "text": [
            "Shape of dataset =  (11740667, 19)\n"
          ]
        }
      ]
    },
    {
      "cell_type": "code",
      "metadata": {
        "colab": {
          "base_uri": "https://localhost:8080/"
        },
        "id": "S0pz6pHG3vjG",
        "outputId": "d87109e2-1f7b-4bf3-ac05-ba7eecb4b2a7"
      },
      "source": [
        "df_green_2017.isnull().sum()\n",
        "\n"
      ],
      "id": "S0pz6pHG3vjG",
      "execution_count": 8,
      "outputs": [
        {
          "output_type": "execute_result",
          "data": {
            "text/plain": [
              "VendorID                        0\n",
              "lpep_pickup_datetime            0\n",
              "lpep_dropoff_datetime           0\n",
              "store_and_fwd_flag              0\n",
              "RatecodeID                      0\n",
              "PULocationID                    0\n",
              "DOLocationID                    0\n",
              "passenger_count                 0\n",
              "trip_distance                   0\n",
              "fare_amount                     0\n",
              "extra                           0\n",
              "mta_tax                         0\n",
              "tip_amount                      0\n",
              "tolls_amount                    0\n",
              "ehail_fee                11740667\n",
              "improvement_surcharge           0\n",
              "total_amount                    0\n",
              "payment_type                    0\n",
              "trip_type                      27\n",
              "dtype: int64"
            ]
          },
          "metadata": {},
          "execution_count": 8
        }
      ]
    },
    {
      "cell_type": "code",
      "metadata": {
        "id": "pBm9wSWz5Olv",
        "colab": {
          "base_uri": "https://localhost:8080/",
          "height": 70
        },
        "outputId": "c7157b3f-f4ee-4ced-c0d3-98d06f647f59"
      },
      "source": [
        "df_green_2017.dropna()"
      ],
      "id": "pBm9wSWz5Olv",
      "execution_count": 9,
      "outputs": [
        {
          "output_type": "execute_result",
          "data": {
            "text/html": [
              "<div>\n",
              "<style scoped>\n",
              "    .dataframe tbody tr th:only-of-type {\n",
              "        vertical-align: middle;\n",
              "    }\n",
              "\n",
              "    .dataframe tbody tr th {\n",
              "        vertical-align: top;\n",
              "    }\n",
              "\n",
              "    .dataframe thead th {\n",
              "        text-align: right;\n",
              "    }\n",
              "</style>\n",
              "<table border=\"1\" class=\"dataframe\">\n",
              "  <thead>\n",
              "    <tr style=\"text-align: right;\">\n",
              "      <th></th>\n",
              "      <th>VendorID</th>\n",
              "      <th>lpep_pickup_datetime</th>\n",
              "      <th>lpep_dropoff_datetime</th>\n",
              "      <th>store_and_fwd_flag</th>\n",
              "      <th>RatecodeID</th>\n",
              "      <th>PULocationID</th>\n",
              "      <th>DOLocationID</th>\n",
              "      <th>passenger_count</th>\n",
              "      <th>trip_distance</th>\n",
              "      <th>fare_amount</th>\n",
              "      <th>extra</th>\n",
              "      <th>mta_tax</th>\n",
              "      <th>tip_amount</th>\n",
              "      <th>tolls_amount</th>\n",
              "      <th>ehail_fee</th>\n",
              "      <th>improvement_surcharge</th>\n",
              "      <th>total_amount</th>\n",
              "      <th>payment_type</th>\n",
              "      <th>trip_type</th>\n",
              "    </tr>\n",
              "  </thead>\n",
              "  <tbody>\n",
              "  </tbody>\n",
              "</table>\n",
              "</div>"
            ],
            "text/plain": [
              "Empty DataFrame\n",
              "Columns: [VendorID, lpep_pickup_datetime, lpep_dropoff_datetime, store_and_fwd_flag, RatecodeID, PULocationID, DOLocationID, passenger_count, trip_distance, fare_amount, extra, mta_tax, tip_amount, tolls_amount, ehail_fee, improvement_surcharge, total_amount, payment_type, trip_type]\n",
              "Index: []"
            ]
          },
          "metadata": {},
          "execution_count": 9
        }
      ]
    },
    {
      "cell_type": "code",
      "metadata": {
        "id": "e4390dee"
      },
      "source": [
        "df_green_2017.dropna(axis = 1, how ='all', inplace= True)"
      ],
      "id": "e4390dee",
      "execution_count": 10,
      "outputs": []
    },
    {
      "cell_type": "code",
      "metadata": {
        "id": "TMzaE52kcVJ0",
        "colab": {
          "base_uri": "https://localhost:8080/",
          "height": 226
        },
        "outputId": "c72e6ea1-01b6-4d37-eebd-bb86424c4073"
      },
      "source": [
        "df_green_2017.head(5)"
      ],
      "id": "TMzaE52kcVJ0",
      "execution_count": 11,
      "outputs": [
        {
          "output_type": "execute_result",
          "data": {
            "text/html": [
              "<div>\n",
              "<style scoped>\n",
              "    .dataframe tbody tr th:only-of-type {\n",
              "        vertical-align: middle;\n",
              "    }\n",
              "\n",
              "    .dataframe tbody tr th {\n",
              "        vertical-align: top;\n",
              "    }\n",
              "\n",
              "    .dataframe thead th {\n",
              "        text-align: right;\n",
              "    }\n",
              "</style>\n",
              "<table border=\"1\" class=\"dataframe\">\n",
              "  <thead>\n",
              "    <tr style=\"text-align: right;\">\n",
              "      <th></th>\n",
              "      <th>VendorID</th>\n",
              "      <th>lpep_pickup_datetime</th>\n",
              "      <th>lpep_dropoff_datetime</th>\n",
              "      <th>store_and_fwd_flag</th>\n",
              "      <th>RatecodeID</th>\n",
              "      <th>PULocationID</th>\n",
              "      <th>DOLocationID</th>\n",
              "      <th>passenger_count</th>\n",
              "      <th>trip_distance</th>\n",
              "      <th>fare_amount</th>\n",
              "      <th>extra</th>\n",
              "      <th>mta_tax</th>\n",
              "      <th>tip_amount</th>\n",
              "      <th>tolls_amount</th>\n",
              "      <th>improvement_surcharge</th>\n",
              "      <th>total_amount</th>\n",
              "      <th>payment_type</th>\n",
              "      <th>trip_type</th>\n",
              "    </tr>\n",
              "  </thead>\n",
              "  <tbody>\n",
              "    <tr>\n",
              "      <th>0</th>\n",
              "      <td>2</td>\n",
              "      <td>2017-01-01 00:01:15</td>\n",
              "      <td>2017-01-01 00:11:05</td>\n",
              "      <td>N</td>\n",
              "      <td>1</td>\n",
              "      <td>42</td>\n",
              "      <td>166</td>\n",
              "      <td>1</td>\n",
              "      <td>1.71</td>\n",
              "      <td>9.0</td>\n",
              "      <td>0.0</td>\n",
              "      <td>0.5</td>\n",
              "      <td>0.00</td>\n",
              "      <td>0.0</td>\n",
              "      <td>0.3</td>\n",
              "      <td>9.80</td>\n",
              "      <td>2</td>\n",
              "      <td>1.0</td>\n",
              "    </tr>\n",
              "    <tr>\n",
              "      <th>1</th>\n",
              "      <td>2</td>\n",
              "      <td>2017-01-01 00:03:34</td>\n",
              "      <td>2017-01-01 00:09:00</td>\n",
              "      <td>N</td>\n",
              "      <td>1</td>\n",
              "      <td>75</td>\n",
              "      <td>74</td>\n",
              "      <td>1</td>\n",
              "      <td>1.44</td>\n",
              "      <td>6.5</td>\n",
              "      <td>0.5</td>\n",
              "      <td>0.5</td>\n",
              "      <td>0.00</td>\n",
              "      <td>0.0</td>\n",
              "      <td>0.3</td>\n",
              "      <td>7.80</td>\n",
              "      <td>2</td>\n",
              "      <td>1.0</td>\n",
              "    </tr>\n",
              "    <tr>\n",
              "      <th>2</th>\n",
              "      <td>2</td>\n",
              "      <td>2017-01-01 00:04:02</td>\n",
              "      <td>2017-01-01 00:12:55</td>\n",
              "      <td>N</td>\n",
              "      <td>1</td>\n",
              "      <td>82</td>\n",
              "      <td>70</td>\n",
              "      <td>5</td>\n",
              "      <td>3.45</td>\n",
              "      <td>12.0</td>\n",
              "      <td>0.5</td>\n",
              "      <td>0.5</td>\n",
              "      <td>2.66</td>\n",
              "      <td>0.0</td>\n",
              "      <td>0.3</td>\n",
              "      <td>15.96</td>\n",
              "      <td>1</td>\n",
              "      <td>1.0</td>\n",
              "    </tr>\n",
              "    <tr>\n",
              "      <th>3</th>\n",
              "      <td>2</td>\n",
              "      <td>2017-01-01 00:01:40</td>\n",
              "      <td>2017-01-01 00:14:23</td>\n",
              "      <td>N</td>\n",
              "      <td>1</td>\n",
              "      <td>255</td>\n",
              "      <td>232</td>\n",
              "      <td>1</td>\n",
              "      <td>2.11</td>\n",
              "      <td>10.5</td>\n",
              "      <td>0.5</td>\n",
              "      <td>0.5</td>\n",
              "      <td>0.00</td>\n",
              "      <td>0.0</td>\n",
              "      <td>0.3</td>\n",
              "      <td>11.80</td>\n",
              "      <td>2</td>\n",
              "      <td>1.0</td>\n",
              "    </tr>\n",
              "    <tr>\n",
              "      <th>4</th>\n",
              "      <td>2</td>\n",
              "      <td>2017-01-01 00:00:51</td>\n",
              "      <td>2017-01-01 00:18:55</td>\n",
              "      <td>N</td>\n",
              "      <td>1</td>\n",
              "      <td>166</td>\n",
              "      <td>239</td>\n",
              "      <td>1</td>\n",
              "      <td>2.76</td>\n",
              "      <td>11.5</td>\n",
              "      <td>0.5</td>\n",
              "      <td>0.5</td>\n",
              "      <td>0.00</td>\n",
              "      <td>0.0</td>\n",
              "      <td>0.3</td>\n",
              "      <td>12.80</td>\n",
              "      <td>2</td>\n",
              "      <td>1.0</td>\n",
              "    </tr>\n",
              "  </tbody>\n",
              "</table>\n",
              "</div>"
            ],
            "text/plain": [
              "   VendorID lpep_pickup_datetime  ... payment_type trip_type\n",
              "0         2  2017-01-01 00:01:15  ...            2       1.0\n",
              "1         2  2017-01-01 00:03:34  ...            2       1.0\n",
              "2         2  2017-01-01 00:04:02  ...            1       1.0\n",
              "3         2  2017-01-01 00:01:40  ...            2       1.0\n",
              "4         2  2017-01-01 00:00:51  ...            2       1.0\n",
              "\n",
              "[5 rows x 18 columns]"
            ]
          },
          "metadata": {},
          "execution_count": 11
        }
      ]
    },
    {
      "cell_type": "code",
      "metadata": {
        "id": "BqKQMvu6gr3o",
        "colab": {
          "base_uri": "https://localhost:8080/",
          "height": 338
        },
        "outputId": "d24e7462-6536-430f-b216-dfeaaad256b9"
      },
      "source": [
        "df_green_2017.describe()"
      ],
      "id": "BqKQMvu6gr3o",
      "execution_count": 12,
      "outputs": [
        {
          "output_type": "execute_result",
          "data": {
            "text/html": [
              "<div>\n",
              "<style scoped>\n",
              "    .dataframe tbody tr th:only-of-type {\n",
              "        vertical-align: middle;\n",
              "    }\n",
              "\n",
              "    .dataframe tbody tr th {\n",
              "        vertical-align: top;\n",
              "    }\n",
              "\n",
              "    .dataframe thead th {\n",
              "        text-align: right;\n",
              "    }\n",
              "</style>\n",
              "<table border=\"1\" class=\"dataframe\">\n",
              "  <thead>\n",
              "    <tr style=\"text-align: right;\">\n",
              "      <th></th>\n",
              "      <th>VendorID</th>\n",
              "      <th>RatecodeID</th>\n",
              "      <th>PULocationID</th>\n",
              "      <th>DOLocationID</th>\n",
              "      <th>passenger_count</th>\n",
              "      <th>trip_distance</th>\n",
              "      <th>fare_amount</th>\n",
              "      <th>extra</th>\n",
              "      <th>mta_tax</th>\n",
              "      <th>tip_amount</th>\n",
              "      <th>tolls_amount</th>\n",
              "      <th>improvement_surcharge</th>\n",
              "      <th>total_amount</th>\n",
              "      <th>payment_type</th>\n",
              "      <th>trip_type</th>\n",
              "    </tr>\n",
              "  </thead>\n",
              "  <tbody>\n",
              "    <tr>\n",
              "      <th>count</th>\n",
              "      <td>1.174067e+07</td>\n",
              "      <td>1.174067e+07</td>\n",
              "      <td>1.174067e+07</td>\n",
              "      <td>1.174067e+07</td>\n",
              "      <td>1.174067e+07</td>\n",
              "      <td>1.174067e+07</td>\n",
              "      <td>1.174067e+07</td>\n",
              "      <td>1.174067e+07</td>\n",
              "      <td>1.174067e+07</td>\n",
              "      <td>1.174067e+07</td>\n",
              "      <td>1.174067e+07</td>\n",
              "      <td>1.174067e+07</td>\n",
              "      <td>1.174067e+07</td>\n",
              "      <td>1.174067e+07</td>\n",
              "      <td>1.174064e+07</td>\n",
              "    </tr>\n",
              "    <tr>\n",
              "      <th>mean</th>\n",
              "      <td>1.804665e+00</td>\n",
              "      <td>1.077787e+00</td>\n",
              "      <td>1.118996e+02</td>\n",
              "      <td>1.290602e+02</td>\n",
              "      <td>1.364449e+00</td>\n",
              "      <td>2.684420e+00</td>\n",
              "      <td>1.179504e+01</td>\n",
              "      <td>3.527367e-01</td>\n",
              "      <td>4.879347e-01</td>\n",
              "      <td>1.149689e+00</td>\n",
              "      <td>1.036454e-01</td>\n",
              "      <td>2.930474e-01</td>\n",
              "      <td>1.424200e+01</td>\n",
              "      <td>1.506124e+00</td>\n",
              "      <td>1.018406e+00</td>\n",
              "    </tr>\n",
              "    <tr>\n",
              "      <th>std</th>\n",
              "      <td>3.964585e-01</td>\n",
              "      <td>5.625980e-01</td>\n",
              "      <td>7.588120e+01</td>\n",
              "      <td>7.723227e+01</td>\n",
              "      <td>1.039248e+00</td>\n",
              "      <td>2.828545e+00</td>\n",
              "      <td>9.875311e+00</td>\n",
              "      <td>3.891518e-01</td>\n",
              "      <td>8.339196e-02</td>\n",
              "      <td>2.173319e+00</td>\n",
              "      <td>2.662594e+00</td>\n",
              "      <td>4.924564e-02</td>\n",
              "      <td>1.151100e+01</td>\n",
              "      <td>5.245950e-01</td>\n",
              "      <td>1.344143e-01</td>\n",
              "    </tr>\n",
              "    <tr>\n",
              "      <th>min</th>\n",
              "      <td>1.000000e+00</td>\n",
              "      <td>1.000000e+00</td>\n",
              "      <td>1.000000e+00</td>\n",
              "      <td>1.000000e+00</td>\n",
              "      <td>0.000000e+00</td>\n",
              "      <td>0.000000e+00</td>\n",
              "      <td>-4.800000e+02</td>\n",
              "      <td>-4.500000e+00</td>\n",
              "      <td>-5.000000e-01</td>\n",
              "      <td>-1.010000e+02</td>\n",
              "      <td>-8.000000e+01</td>\n",
              "      <td>-3.000000e-01</td>\n",
              "      <td>-4.800000e+02</td>\n",
              "      <td>1.000000e+00</td>\n",
              "      <td>1.000000e+00</td>\n",
              "    </tr>\n",
              "    <tr>\n",
              "      <th>25%</th>\n",
              "      <td>2.000000e+00</td>\n",
              "      <td>1.000000e+00</td>\n",
              "      <td>4.900000e+01</td>\n",
              "      <td>6.100000e+01</td>\n",
              "      <td>1.000000e+00</td>\n",
              "      <td>1.000000e+00</td>\n",
              "      <td>6.000000e+00</td>\n",
              "      <td>0.000000e+00</td>\n",
              "      <td>5.000000e-01</td>\n",
              "      <td>0.000000e+00</td>\n",
              "      <td>0.000000e+00</td>\n",
              "      <td>3.000000e-01</td>\n",
              "      <td>7.800000e+00</td>\n",
              "      <td>1.000000e+00</td>\n",
              "      <td>1.000000e+00</td>\n",
              "    </tr>\n",
              "    <tr>\n",
              "      <th>50%</th>\n",
              "      <td>2.000000e+00</td>\n",
              "      <td>1.000000e+00</td>\n",
              "      <td>8.200000e+01</td>\n",
              "      <td>1.290000e+02</td>\n",
              "      <td>1.000000e+00</td>\n",
              "      <td>1.750000e+00</td>\n",
              "      <td>9.000000e+00</td>\n",
              "      <td>5.000000e-01</td>\n",
              "      <td>5.000000e-01</td>\n",
              "      <td>0.000000e+00</td>\n",
              "      <td>0.000000e+00</td>\n",
              "      <td>3.000000e-01</td>\n",
              "      <td>1.115000e+01</td>\n",
              "      <td>1.000000e+00</td>\n",
              "      <td>1.000000e+00</td>\n",
              "    </tr>\n",
              "    <tr>\n",
              "      <th>75%</th>\n",
              "      <td>2.000000e+00</td>\n",
              "      <td>1.000000e+00</td>\n",
              "      <td>1.660000e+02</td>\n",
              "      <td>1.930000e+02</td>\n",
              "      <td>1.000000e+00</td>\n",
              "      <td>3.300000e+00</td>\n",
              "      <td>1.450000e+01</td>\n",
              "      <td>5.000000e-01</td>\n",
              "      <td>5.000000e-01</td>\n",
              "      <td>1.950000e+00</td>\n",
              "      <td>0.000000e+00</td>\n",
              "      <td>3.000000e-01</td>\n",
              "      <td>1.694000e+01</td>\n",
              "      <td>2.000000e+00</td>\n",
              "      <td>1.000000e+00</td>\n",
              "    </tr>\n",
              "    <tr>\n",
              "      <th>max</th>\n",
              "      <td>2.000000e+00</td>\n",
              "      <td>9.900000e+01</td>\n",
              "      <td>2.650000e+02</td>\n",
              "      <td>2.650000e+02</td>\n",
              "      <td>9.000000e+00</td>\n",
              "      <td>6.400000e+02</td>\n",
              "      <td>6.003500e+03</td>\n",
              "      <td>3.000000e+01</td>\n",
              "      <td>8.300000e-01</td>\n",
              "      <td>4.495600e+02</td>\n",
              "      <td>7.999920e+03</td>\n",
              "      <td>3.000000e-01</td>\n",
              "      <td>8.999910e+03</td>\n",
              "      <td>5.000000e+00</td>\n",
              "      <td>2.000000e+00</td>\n",
              "    </tr>\n",
              "  </tbody>\n",
              "</table>\n",
              "</div>"
            ],
            "text/plain": [
              "           VendorID    RatecodeID  ...  payment_type     trip_type\n",
              "count  1.174067e+07  1.174067e+07  ...  1.174067e+07  1.174064e+07\n",
              "mean   1.804665e+00  1.077787e+00  ...  1.506124e+00  1.018406e+00\n",
              "std    3.964585e-01  5.625980e-01  ...  5.245950e-01  1.344143e-01\n",
              "min    1.000000e+00  1.000000e+00  ...  1.000000e+00  1.000000e+00\n",
              "25%    2.000000e+00  1.000000e+00  ...  1.000000e+00  1.000000e+00\n",
              "50%    2.000000e+00  1.000000e+00  ...  1.000000e+00  1.000000e+00\n",
              "75%    2.000000e+00  1.000000e+00  ...  2.000000e+00  1.000000e+00\n",
              "max    2.000000e+00  9.900000e+01  ...  5.000000e+00  2.000000e+00\n",
              "\n",
              "[8 rows x 15 columns]"
            ]
          },
          "metadata": {},
          "execution_count": 12
        }
      ]
    },
    {
      "cell_type": "code",
      "metadata": {
        "id": "ry7CjhlFhKt6",
        "colab": {
          "base_uri": "https://localhost:8080/"
        },
        "outputId": "e2b4701f-5c15-429f-8406-809e0dbe7fd3"
      },
      "source": [
        "df_green_2017.isnull().sum()\n"
      ],
      "id": "ry7CjhlFhKt6",
      "execution_count": 13,
      "outputs": [
        {
          "output_type": "execute_result",
          "data": {
            "text/plain": [
              "VendorID                  0\n",
              "lpep_pickup_datetime      0\n",
              "lpep_dropoff_datetime     0\n",
              "store_and_fwd_flag        0\n",
              "RatecodeID                0\n",
              "PULocationID              0\n",
              "DOLocationID              0\n",
              "passenger_count           0\n",
              "trip_distance             0\n",
              "fare_amount               0\n",
              "extra                     0\n",
              "mta_tax                   0\n",
              "tip_amount                0\n",
              "tolls_amount              0\n",
              "improvement_surcharge     0\n",
              "total_amount              0\n",
              "payment_type              0\n",
              "trip_type                27\n",
              "dtype: int64"
            ]
          },
          "metadata": {},
          "execution_count": 13
        }
      ]
    },
    {
      "cell_type": "code",
      "metadata": {
        "id": "Auz2dfmRmPV0"
      },
      "source": [
        "df_green_2017.dropna(subset = [\"trip_type\"],inplace= True)\n"
      ],
      "id": "Auz2dfmRmPV0",
      "execution_count": 14,
      "outputs": []
    },
    {
      "cell_type": "code",
      "metadata": {
        "id": "KwJG18PIucsM",
        "colab": {
          "base_uri": "https://localhost:8080/"
        },
        "outputId": "37664bee-a334-42d4-e9a9-129fef0c56e3"
      },
      "source": [
        "df_green_2017.isnull().sum()"
      ],
      "id": "KwJG18PIucsM",
      "execution_count": 15,
      "outputs": [
        {
          "output_type": "execute_result",
          "data": {
            "text/plain": [
              "VendorID                 0\n",
              "lpep_pickup_datetime     0\n",
              "lpep_dropoff_datetime    0\n",
              "store_and_fwd_flag       0\n",
              "RatecodeID               0\n",
              "PULocationID             0\n",
              "DOLocationID             0\n",
              "passenger_count          0\n",
              "trip_distance            0\n",
              "fare_amount              0\n",
              "extra                    0\n",
              "mta_tax                  0\n",
              "tip_amount               0\n",
              "tolls_amount             0\n",
              "improvement_surcharge    0\n",
              "total_amount             0\n",
              "payment_type             0\n",
              "trip_type                0\n",
              "dtype: int64"
            ]
          },
          "metadata": {},
          "execution_count": 15
        }
      ]
    },
    {
      "cell_type": "code",
      "metadata": {
        "id": "ukg-x-4zvIht"
      },
      "source": [
        "#Remove 0 passenger count .\n",
        "#the taxi fare initial charge is ($2.5) ,so we are removing fare amount smaller than this amount"
      ],
      "id": "ukg-x-4zvIht",
      "execution_count": 16,
      "outputs": []
    },
    {
      "cell_type": "code",
      "metadata": {
        "id": "3tb3WQC1vjt2"
      },
      "source": [
        "#removing outlinear values.\n",
        "df_green_2017 = df_green_2017[(df_green_2017['passenger_count'] > 0)]\n",
        "                              "
      ],
      "id": "3tb3WQC1vjt2",
      "execution_count": 17,
      "outputs": []
    },
    {
      "cell_type": "code",
      "metadata": {
        "id": "7SOyhZ9kwCg-"
      },
      "source": [
        "df_green_2017 = df_green_2017[(df_green_2017['fare_amount'] >= 2.5)]"
      ],
      "id": "7SOyhZ9kwCg-",
      "execution_count": 18,
      "outputs": []
    },
    {
      "cell_type": "code",
      "metadata": {
        "id": "5-6w9ycIwbxE"
      },
      "source": [
        "df_green_2017 = df_green_2017[(df_green_2017['trip_distance'] > 0)]"
      ],
      "id": "5-6w9ycIwbxE",
      "execution_count": 19,
      "outputs": []
    },
    {
      "cell_type": "code",
      "metadata": {
        "id": "ag4YRmJzweLE"
      },
      "source": [
        "df_green_2017 = df_green_2017[(df_green_2017['extra'] > 0)]"
      ],
      "id": "ag4YRmJzweLE",
      "execution_count": 20,
      "outputs": []
    },
    {
      "cell_type": "code",
      "metadata": {
        "id": "AFKYk_BCfvor"
      },
      "source": [
        "df_green_2017 = df_green_2017[(df_green_2017['mta_tax'] > 0)]"
      ],
      "id": "AFKYk_BCfvor",
      "execution_count": 21,
      "outputs": []
    },
    {
      "cell_type": "code",
      "metadata": {
        "id": "Vgjmn512f1sF"
      },
      "source": [
        "df_green_2017 = df_green_2017[(df_green_2017['tolls_amount'] > 0)]"
      ],
      "id": "Vgjmn512f1sF",
      "execution_count": 22,
      "outputs": []
    },
    {
      "cell_type": "code",
      "metadata": {
        "id": "xspRqdO5gE3F"
      },
      "source": [
        "df_green_2017 = df_green_2017[(df_green_2017['improvement_surcharge'] > 0)]"
      ],
      "id": "xspRqdO5gE3F",
      "execution_count": 23,
      "outputs": []
    },
    {
      "cell_type": "code",
      "metadata": {
        "id": "IxQ_A6NZgL1V"
      },
      "source": [
        "df_green_2017 = df_green_2017[(df_green_2017['total_amount'] >= 2.5)]"
      ],
      "id": "IxQ_A6NZgL1V",
      "execution_count": 24,
      "outputs": []
    },
    {
      "cell_type": "code",
      "metadata": {
        "colab": {
          "base_uri": "https://localhost:8080/",
          "height": 320
        },
        "id": "bDiGXZ7zgXlD",
        "outputId": "b2f12122-d5d4-466d-debf-a1a16474129a"
      },
      "source": [
        "df_green_2017.describe()"
      ],
      "id": "bDiGXZ7zgXlD",
      "execution_count": 25,
      "outputs": [
        {
          "output_type": "execute_result",
          "data": {
            "text/html": [
              "<div>\n",
              "<style scoped>\n",
              "    .dataframe tbody tr th:only-of-type {\n",
              "        vertical-align: middle;\n",
              "    }\n",
              "\n",
              "    .dataframe tbody tr th {\n",
              "        vertical-align: top;\n",
              "    }\n",
              "\n",
              "    .dataframe thead th {\n",
              "        text-align: right;\n",
              "    }\n",
              "</style>\n",
              "<table border=\"1\" class=\"dataframe\">\n",
              "  <thead>\n",
              "    <tr style=\"text-align: right;\">\n",
              "      <th></th>\n",
              "      <th>VendorID</th>\n",
              "      <th>RatecodeID</th>\n",
              "      <th>PULocationID</th>\n",
              "      <th>DOLocationID</th>\n",
              "      <th>passenger_count</th>\n",
              "      <th>trip_distance</th>\n",
              "      <th>fare_amount</th>\n",
              "      <th>extra</th>\n",
              "      <th>mta_tax</th>\n",
              "      <th>tip_amount</th>\n",
              "      <th>tolls_amount</th>\n",
              "      <th>improvement_surcharge</th>\n",
              "      <th>total_amount</th>\n",
              "      <th>payment_type</th>\n",
              "      <th>trip_type</th>\n",
              "    </tr>\n",
              "  </thead>\n",
              "  <tbody>\n",
              "    <tr>\n",
              "      <th>count</th>\n",
              "      <td>76105.000000</td>\n",
              "      <td>76105.000000</td>\n",
              "      <td>76105.000000</td>\n",
              "      <td>76105.000000</td>\n",
              "      <td>76105.000000</td>\n",
              "      <td>76105.000000</td>\n",
              "      <td>76105.000000</td>\n",
              "      <td>76105.000000</td>\n",
              "      <td>76105.0</td>\n",
              "      <td>76105.000000</td>\n",
              "      <td>76105.000000</td>\n",
              "      <td>7.610500e+04</td>\n",
              "      <td>76105.000000</td>\n",
              "      <td>76105.000000</td>\n",
              "      <td>76105.0</td>\n",
              "    </tr>\n",
              "    <tr>\n",
              "      <th>mean</th>\n",
              "      <td>1.817121</td>\n",
              "      <td>1.070022</td>\n",
              "      <td>123.910623</td>\n",
              "      <td>146.692688</td>\n",
              "      <td>1.420629</td>\n",
              "      <td>9.687459</td>\n",
              "      <td>31.084804</td>\n",
              "      <td>0.813330</td>\n",
              "      <td>0.5</td>\n",
              "      <td>4.098642</td>\n",
              "      <td>5.975942</td>\n",
              "      <td>3.000000e-01</td>\n",
              "      <td>42.872853</td>\n",
              "      <td>1.330556</td>\n",
              "      <td>1.0</td>\n",
              "    </tr>\n",
              "    <tr>\n",
              "      <th>std</th>\n",
              "      <td>0.386570</td>\n",
              "      <td>0.359905</td>\n",
              "      <td>74.528566</td>\n",
              "      <td>72.581856</td>\n",
              "      <td>1.088671</td>\n",
              "      <td>5.648839</td>\n",
              "      <td>17.470718</td>\n",
              "      <td>0.766762</td>\n",
              "      <td>0.0</td>\n",
              "      <td>5.261424</td>\n",
              "      <td>9.665448</td>\n",
              "      <td>4.204442e-13</td>\n",
              "      <td>22.233321</td>\n",
              "      <td>0.481569</td>\n",
              "      <td>0.0</td>\n",
              "    </tr>\n",
              "    <tr>\n",
              "      <th>min</th>\n",
              "      <td>1.000000</td>\n",
              "      <td>1.000000</td>\n",
              "      <td>1.000000</td>\n",
              "      <td>1.000000</td>\n",
              "      <td>1.000000</td>\n",
              "      <td>0.010000</td>\n",
              "      <td>2.500000</td>\n",
              "      <td>0.500000</td>\n",
              "      <td>0.5</td>\n",
              "      <td>0.000000</td>\n",
              "      <td>0.010000</td>\n",
              "      <td>3.000000e-01</td>\n",
              "      <td>6.300000</td>\n",
              "      <td>1.000000</td>\n",
              "      <td>1.0</td>\n",
              "    </tr>\n",
              "    <tr>\n",
              "      <th>25%</th>\n",
              "      <td>2.000000</td>\n",
              "      <td>1.000000</td>\n",
              "      <td>74.000000</td>\n",
              "      <td>90.000000</td>\n",
              "      <td>1.000000</td>\n",
              "      <td>5.810000</td>\n",
              "      <td>20.000000</td>\n",
              "      <td>0.500000</td>\n",
              "      <td>0.5</td>\n",
              "      <td>0.000000</td>\n",
              "      <td>5.540000</td>\n",
              "      <td>3.000000e-01</td>\n",
              "      <td>29.560000</td>\n",
              "      <td>1.000000</td>\n",
              "      <td>1.0</td>\n",
              "    </tr>\n",
              "    <tr>\n",
              "      <th>50%</th>\n",
              "      <td>2.000000</td>\n",
              "      <td>1.000000</td>\n",
              "      <td>95.000000</td>\n",
              "      <td>138.000000</td>\n",
              "      <td>1.000000</td>\n",
              "      <td>8.320000</td>\n",
              "      <td>27.500000</td>\n",
              "      <td>0.500000</td>\n",
              "      <td>0.5</td>\n",
              "      <td>3.310000</td>\n",
              "      <td>5.760000</td>\n",
              "      <td>3.000000e-01</td>\n",
              "      <td>38.560000</td>\n",
              "      <td>1.000000</td>\n",
              "      <td>1.0</td>\n",
              "    </tr>\n",
              "    <tr>\n",
              "      <th>75%</th>\n",
              "      <td>2.000000</td>\n",
              "      <td>1.000000</td>\n",
              "      <td>174.000000</td>\n",
              "      <td>212.000000</td>\n",
              "      <td>1.000000</td>\n",
              "      <td>12.380000</td>\n",
              "      <td>38.500000</td>\n",
              "      <td>1.000000</td>\n",
              "      <td>0.5</td>\n",
              "      <td>6.910000</td>\n",
              "      <td>5.760000</td>\n",
              "      <td>3.000000e-01</td>\n",
              "      <td>51.070000</td>\n",
              "      <td>2.000000</td>\n",
              "      <td>1.0</td>\n",
              "    </tr>\n",
              "    <tr>\n",
              "      <th>max</th>\n",
              "      <td>2.000000</td>\n",
              "      <td>4.000000</td>\n",
              "      <td>265.000000</td>\n",
              "      <td>265.000000</td>\n",
              "      <td>6.000000</td>\n",
              "      <td>183.500000</td>\n",
              "      <td>965.000000</td>\n",
              "      <td>4.500000</td>\n",
              "      <td>0.5</td>\n",
              "      <td>449.560000</td>\n",
              "      <td>1591.080000</td>\n",
              "      <td>3.000000e-01</td>\n",
              "      <td>1612.880000</td>\n",
              "      <td>5.000000</td>\n",
              "      <td>1.0</td>\n",
              "    </tr>\n",
              "  </tbody>\n",
              "</table>\n",
              "</div>"
            ],
            "text/plain": [
              "           VendorID    RatecodeID  ...  payment_type  trip_type\n",
              "count  76105.000000  76105.000000  ...  76105.000000    76105.0\n",
              "mean       1.817121      1.070022  ...      1.330556        1.0\n",
              "std        0.386570      0.359905  ...      0.481569        0.0\n",
              "min        1.000000      1.000000  ...      1.000000        1.0\n",
              "25%        2.000000      1.000000  ...      1.000000        1.0\n",
              "50%        2.000000      1.000000  ...      1.000000        1.0\n",
              "75%        2.000000      1.000000  ...      2.000000        1.0\n",
              "max        2.000000      4.000000  ...      5.000000        1.0\n",
              "\n",
              "[8 rows x 15 columns]"
            ]
          },
          "metadata": {},
          "execution_count": 25
        }
      ]
    },
    {
      "cell_type": "code",
      "metadata": {
        "colab": {
          "base_uri": "https://localhost:8080/",
          "height": 364
        },
        "id": "dpJ8QGJFgeJ2",
        "outputId": "eaaeae0b-b4bc-4920-8535-93898caa9adb"
      },
      "source": [
        "#target value = target amount \n",
        "plt.figure(figsize = (12,5))\n",
        "n,bins,patches = plt.hist(df_green_2017.fare_amount, 1000,alpha=0.75)\n",
        "plt.xlabel('Fare amount',fontsize=15,fontweight='bold')\n",
        "plt.title('Histogram of Fare amount',fontsize=25,fontweight='bold')\n",
        "plt.xlim(0,300)\n",
        "plt.show();\n"
      ],
      "id": "dpJ8QGJFgeJ2",
      "execution_count": 30,
      "outputs": [
        {
          "output_type": "display_data",
          "data": {
            "image/png": "[encoded data removed]",
            "text/plain": [
              "<Figure size 864x360 with 1 Axes>"
            ]
          },
          "metadata": {
            "needs_background": "light"
          }
        }
      ]
    },
    {
      "cell_type": "code",
      "metadata": {
        "id": "WD1hkGNxh0SS"
      },
      "source": [
        ""
      ],
      "id": "WD1hkGNxh0SS",
      "execution_count": null,
      "outputs": []
    }
  ]
}